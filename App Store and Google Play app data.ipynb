{
 "cells": [
  {
   "cell_type": "markdown",
   "metadata": {},
   "source": [
    "# App Profiles for the App Store and Google Play\n",
    "\n",
    "\n",
    "[Click here](https://www.kaggle.com/lava18/google-play-store-apps) to find the Kaggle data set containing ~7,000 iOS apps in the App Store.\n",
    "\n",
    "[Click here](https://www.kaggle.com/ramamet4/app-store-apple-data-set-10k-apps)\tto find the Kaggle data set containing ~10,000 Android apps in Google Play."
   ]
  },
  {
   "cell_type": "code",
   "execution_count": 1,
   "metadata": {},
   "outputs": [],
   "source": [
    "from csv import reader\n",
    "\n",
    "### The App Store data set ###\n",
    "opened_file1 = open('/Users/derekpomykal/Desktop/Python/Dataquest/AppleStore.csv')\n",
    "read_file1 = reader(opened_file1)\n",
    "iOS_data = list(read_file1)\n",
    "\n",
    "### The Google Play data set ###\n",
    "opened_file2 = open('/Users/derekpomykal/Desktop/Python/Dataquest/googleplaystore.csv')\n",
    "read_file2 = reader(opened_file2)\n",
    "Android_data = list(read_file2)"
   ]
  },
  {
   "cell_type": "markdown",
   "metadata": {},
   "source": [
    "## Creating a function named explore_data & applying towards both data sets"
   ]
  },
  {
   "cell_type": "code",
   "execution_count": 2,
   "metadata": {},
   "outputs": [],
   "source": [
    "def explore_data(data_set, start, end, rows_and_columns = False):\n",
    "    data_set_slice = data_set[start:end]\n",
    "    for each_list in data_set_slice:\n",
    "        print(each_list)\n",
    "        print('\\n')\n",
    "    if rows_and_columns:\n",
    "        print('Number of rows:', len(data_set))\n",
    "        print('Number of columns', len(data_set[0]))"
   ]
  },
  {
   "cell_type": "code",
   "execution_count": 3,
   "metadata": {},
   "outputs": [
    {
     "name": "stdout",
     "output_type": "stream",
     "text": [
      "['id', 'track_name', 'size_bytes', 'currency', 'price', 'rating_count_tot', 'rating_count_ver', 'user_rating', 'user_rating_ver', 'ver', 'cont_rating', 'prime_genre', 'sup_devices.num', 'ipadSc_urls.num', 'lang.num', 'vpp_lic']\n",
      "\n",
      "\n",
      "['284882215', 'Facebook', '389879808', 'USD', '0.0', '2974676', '212', '3.5', '3.5', '95.0', '4+', 'Social Networking', '37', '1', '29', '1']\n",
      "\n",
      "\n",
      "['389801252', 'Instagram', '113954816', 'USD', '0.0', '2161558', '1289', '4.5', '4.0', '10.23', '12+', 'Photo & Video', '37', '0', '29', '1']\n",
      "\n",
      "\n",
      "Number of rows: 7198\n",
      "Number of columns 16\n"
     ]
    }
   ],
   "source": [
    "explore_data(iOS_data, 0, 3, rows_and_columns = True)"
   ]
  },
  {
   "cell_type": "code",
   "execution_count": 4,
   "metadata": {},
   "outputs": [
    {
     "name": "stdout",
     "output_type": "stream",
     "text": [
      "['App', 'Category', 'Rating', 'Reviews', 'Size', 'Installs', 'Type', 'Price', 'Content Rating', 'Genres', 'Last Updated', 'Current Ver', 'Android Ver']\n",
      "\n",
      "\n",
      "['Photo Editor & Candy Camera & Grid & ScrapBook', 'ART_AND_DESIGN', '4.1', '159', '19M', '10,000+', 'Free', '0', 'Everyone', 'Art & Design', 'January 7, 2018', '1.0.0', '4.0.3 and up']\n",
      "\n",
      "\n",
      "['Coloring book moana', 'ART_AND_DESIGN', '3.9', '967', '14M', '500,000+', 'Free', '0', 'Everyone', 'Art & Design;Pretend Play', 'January 15, 2018', '2.0.0', '4.0.3 and up']\n",
      "\n",
      "\n",
      "Number of rows: 10842\n",
      "Number of columns 13\n"
     ]
    }
   ],
   "source": [
    "explore_data(Android_data, 0, 3, rows_and_columns = True)"
   ]
  },
  {
   "cell_type": "markdown",
   "metadata": {},
   "source": [
    "## Searching for apps in Google Play data set that are missing data (based on the header)"
   ]
  },
  {
   "cell_type": "code",
   "execution_count": 5,
   "metadata": {
    "scrolled": false
   },
   "outputs": [
    {
     "name": "stdout",
     "output_type": "stream",
     "text": [
      "['Life Made WI-Fi Touchscreen Photo Frame', '1.9', '19', '3.0M', '1,000+', 'Free', '0', 'Everyone', '', 'February 11, 2018', '1.0.19', '4.0 and up']\n"
     ]
    }
   ],
   "source": [
    "for each_list in Android_data:\n",
    "    non_match = len(Android_data[0])\n",
    "    if len(each_list) != non_match:\n",
    "        print(each_list)"
   ]
  },
  {
   "cell_type": "code",
   "execution_count": 6,
   "metadata": {},
   "outputs": [
    {
     "data": {
      "text/plain": [
       "10473"
      ]
     },
     "execution_count": 6,
     "metadata": {},
     "output_type": "execute_result"
    }
   ],
   "source": [
    "Android_data.index(['Life Made WI-Fi Touchscreen Photo Frame', '1.9', '19', '3.0M', '1,000+', 'Free', '0', 'Everyone', '', 'February 11, 2018', '1.0.19', '4.0 and up'])"
   ]
  },
  {
   "cell_type": "markdown",
   "metadata": {},
   "source": [
    "## Deleting the above app"
   ]
  },
  {
   "cell_type": "code",
   "execution_count": 7,
   "metadata": {
    "scrolled": true
   },
   "outputs": [
    {
     "name": "stdout",
     "output_type": "stream",
     "text": [
      "10842\n",
      "10841\n"
     ]
    }
   ],
   "source": [
    "print(len(Android_data))\n",
    "del Android_data[10473] #Don't run more than once - additional rows will be deleted.\n",
    "print(len(Android_data))"
   ]
  },
  {
   "cell_type": "markdown",
   "metadata": {},
   "source": [
    "## Searching for apps in Google Play data set that are duplicates"
   ]
  },
  {
   "cell_type": "code",
   "execution_count": 8,
   "metadata": {},
   "outputs": [
    {
     "name": "stdout",
     "output_type": "stream",
     "text": [
      "Number of duplicate apps: 1181\n"
     ]
    }
   ],
   "source": [
    "duplicate_apps = []\n",
    "unique_apps = []\n",
    "\n",
    "for each_list in Android_data:\n",
    "    name = each_list[0]\n",
    "    if name in unique_apps:\n",
    "        duplicate_apps.append(name)\n",
    "    else:\n",
    "        unique_apps.append(name)\n",
    "\n",
    "print('Number of duplicate apps:', len(duplicate_apps))"
   ]
  },
  {
   "cell_type": "markdown",
   "metadata": {},
   "source": [
    "## Creating a dictionary (reviews_max) where each key is a unique app name and the corresponding dictionary value is the highest number of reviews of that app"
   ]
  },
  {
   "cell_type": "code",
   "execution_count": 9,
   "metadata": {},
   "outputs": [],
   "source": [
    "reviews_max = {}\n",
    "for each_list in Android_data[1:]:\n",
    "    name = each_list[0]\n",
    "    n_reviews = float(each_list[3])\n",
    "    if name in reviews_max and reviews_max[name] < n_reviews:\n",
    "        reviews_max[name] = n_reviews\n",
    "    if name not in reviews_max:\n",
    "        reviews_max[name] = n_reviews"
   ]
  },
  {
   "cell_type": "code",
   "execution_count": 10,
   "metadata": {},
   "outputs": [
    {
     "data": {
      "text/plain": [
       "9659"
      ]
     },
     "execution_count": 10,
     "metadata": {},
     "output_type": "execute_result"
    }
   ],
   "source": [
    "len(reviews_max)"
   ]
  },
  {
   "cell_type": "markdown",
   "metadata": {},
   "source": [
    "## Using the above dictionary to filter the Android_data data set"
   ]
  },
  {
   "cell_type": "code",
   "execution_count": 11,
   "metadata": {},
   "outputs": [],
   "source": [
    "Android_clean = []\n",
    "already_added = []\n",
    "\n",
    "for each_list in Android_data[1:]:\n",
    "    name = each_list[0]\n",
    "    n_reviews = float(each_list[3])\n",
    "    if (n_reviews == reviews_max[name]) and (name not in already_added):\n",
    "        Android_clean.append(each_list)\n",
    "        already_added.append(name) #This condition accounts for duplicate entries due to the SAME n_reviews."
   ]
  },
  {
   "cell_type": "markdown",
   "metadata": {},
   "source": [
    "## Using the explore_data function - goal was for number of rows to equal the len(reviews_max)"
   ]
  },
  {
   "cell_type": "code",
   "execution_count": 12,
   "metadata": {},
   "outputs": [
    {
     "name": "stdout",
     "output_type": "stream",
     "text": [
      "['Photo Editor & Candy Camera & Grid & ScrapBook', 'ART_AND_DESIGN', '4.1', '159', '19M', '10,000+', 'Free', '0', 'Everyone', 'Art & Design', 'January 7, 2018', '1.0.0', '4.0.3 and up']\n",
      "\n",
      "\n",
      "['U Launcher Lite – FREE Live Cool Themes, Hide Apps', 'ART_AND_DESIGN', '4.7', '87510', '8.7M', '5,000,000+', 'Free', '0', 'Everyone', 'Art & Design', 'August 1, 2018', '1.2.4', '4.0.3 and up']\n",
      "\n",
      "\n",
      "['Sketch - Draw & Paint', 'ART_AND_DESIGN', '4.5', '215644', '25M', '50,000,000+', 'Free', '0', 'Teen', 'Art & Design', 'June 8, 2018', 'Varies with device', '4.2 and up']\n",
      "\n",
      "\n",
      "['Pixel Draw - Number Art Coloring Book', 'ART_AND_DESIGN', '4.3', '967', '2.8M', '100,000+', 'Free', '0', 'Everyone', 'Art & Design;Creativity', 'June 20, 2018', '1.1', '4.4 and up']\n",
      "\n",
      "\n",
      "['Paper flowers instructions', 'ART_AND_DESIGN', '4.4', '167', '5.6M', '50,000+', 'Free', '0', 'Everyone', 'Art & Design', 'March 26, 2017', '1.0', '2.3 and up']\n",
      "\n",
      "\n",
      "Number of rows: 9659\n",
      "Number of columns 13\n"
     ]
    }
   ],
   "source": [
    "explore_data(Android_clean, 0, 5, True)"
   ]
  },
  {
   "cell_type": "markdown",
   "metadata": {},
   "source": [
    "## Removing non-English apps"
   ]
  },
  {
   "cell_type": "code",
   "execution_count": 13,
   "metadata": {},
   "outputs": [
    {
     "name": "stdout",
     "output_type": "stream",
     "text": [
      "True\n",
      "False\n",
      "True\n",
      "True\n",
      "True\n"
     ]
    }
   ],
   "source": [
    "def in_english(string):\n",
    "    non_ascii = 0\n",
    "    for letter in string:\n",
    "        if ord(letter) > 127:\n",
    "            non_ascii += 1\n",
    "            \n",
    "    if non_ascii > 3:\n",
    "        return False\n",
    "    else:\n",
    "        return True\n",
    "print(in_english('Instagram'))\n",
    "print(in_english('爱奇艺PPS -《欢乐颂2》电视剧热播'))\n",
    "print(in_english(''))\n",
    "print(in_english('Docs To Go™ Free Office Suite'))\n",
    "print(in_english('Instachat 😜'))"
   ]
  },
  {
   "cell_type": "code",
   "execution_count": 14,
   "metadata": {},
   "outputs": [
    {
     "name": "stdout",
     "output_type": "stream",
     "text": [
      "9614\n",
      "45\n"
     ]
    }
   ],
   "source": [
    "english_android_apps = []\n",
    "non_english_android_apps = []\n",
    "\n",
    "for each_list in Android_clean:\n",
    "    english_app = in_english(each_list[0])\n",
    "    if english_app:\n",
    "        english_android_apps.append(each_list)\n",
    "    else:\n",
    "        non_english_android_apps.append(each_list)\n",
    "\n",
    "print(len(english_android_apps))\n",
    "print(len(non_english_android_apps))"
   ]
  },
  {
   "cell_type": "code",
   "execution_count": 15,
   "metadata": {
    "scrolled": false
   },
   "outputs": [
    {
     "name": "stdout",
     "output_type": "stream",
     "text": [
      "['Flame - درب عقلك يوميا', 'EDUCATION', '4.6', '56065', '37M', '1,000,000+', 'Free', '0', 'Everyone', 'Education', 'July 26, 2018', '3.3', '4.1 and up']\n",
      "\n",
      "\n",
      "['သိင်္ Astrology - Min Thein Kha BayDin', 'LIFESTYLE', '4.7', '2225', '15M', '100,000+', 'Free', '0', 'Everyone', 'Lifestyle', 'July 26, 2018', '4.2.1', '4.0.3 and up']\n",
      "\n",
      "\n",
      "['РИА Новости', 'NEWS_AND_MAGAZINES', '4.5', '44274', '8.0M', '1,000,000+', 'Free', '0', 'Everyone', 'News & Magazines', 'August 6, 2018', '4.0.6', '4.4 and up']\n",
      "\n",
      "\n",
      "['صور حرف H', 'ART_AND_DESIGN', '4.4', '13', '4.5M', '1,000+', 'Free', '0', 'Everyone', 'Art & Design', 'March 27, 2018', '2.0', '4.0.3 and up']\n",
      "\n",
      "\n",
      "Number of rows: 45\n",
      "Number of columns 13\n"
     ]
    }
   ],
   "source": [
    "explore_data(non_english_android_apps, 0, 4, True)"
   ]
  },
  {
   "cell_type": "code",
   "execution_count": 16,
   "metadata": {},
   "outputs": [
    {
     "name": "stdout",
     "output_type": "stream",
     "text": [
      "['Photo Editor & Candy Camera & Grid & ScrapBook', 'ART_AND_DESIGN', '4.1', '159', '19M', '10,000+', 'Free', '0', 'Everyone', 'Art & Design', 'January 7, 2018', '1.0.0', '4.0.3 and up']\n",
      "\n",
      "\n",
      "['U Launcher Lite – FREE Live Cool Themes, Hide Apps', 'ART_AND_DESIGN', '4.7', '87510', '8.7M', '5,000,000+', 'Free', '0', 'Everyone', 'Art & Design', 'August 1, 2018', '1.2.4', '4.0.3 and up']\n",
      "\n",
      "\n",
      "['Sketch - Draw & Paint', 'ART_AND_DESIGN', '4.5', '215644', '25M', '50,000,000+', 'Free', '0', 'Teen', 'Art & Design', 'June 8, 2018', 'Varies with device', '4.2 and up']\n",
      "\n",
      "\n",
      "['Pixel Draw - Number Art Coloring Book', 'ART_AND_DESIGN', '4.3', '967', '2.8M', '100,000+', 'Free', '0', 'Everyone', 'Art & Design;Creativity', 'June 20, 2018', '1.1', '4.4 and up']\n",
      "\n",
      "\n",
      "Number of rows: 9614\n",
      "Number of columns 13\n"
     ]
    }
   ],
   "source": [
    "explore_data(english_android_apps, 0, 4, True)"
   ]
  },
  {
   "cell_type": "code",
   "execution_count": 17,
   "metadata": {},
   "outputs": [
    {
     "name": "stdout",
     "output_type": "stream",
     "text": [
      "6183\n",
      "1014\n"
     ]
    }
   ],
   "source": [
    "english_iOS_apps = []\n",
    "non_english_iOS_apps = []\n",
    "\n",
    "for each_list in iOS_data[1:]:\n",
    "    english_app = in_english(each_list[1])\n",
    "    if english_app:\n",
    "        english_iOS_apps.append(each_list)\n",
    "    else:\n",
    "        non_english_iOS_apps.append(each_list)\n",
    "\n",
    "print(len(english_iOS_apps))\n",
    "print(len(non_english_iOS_apps))"
   ]
  },
  {
   "cell_type": "code",
   "execution_count": 18,
   "metadata": {},
   "outputs": [
    {
     "name": "stdout",
     "output_type": "stream",
     "text": [
      "['445375097', '爱奇艺PPS -《欢乐颂2》电视剧热播', '224617472', 'USD', '0.0', '14844', '0', '4.0', '0.0', '6.3.3', '17+', 'Entertainment', '38', '5', '3', '1']\n",
      "\n",
      "\n",
      "['405667771', '聚力视频HD-人民的名义,跨界歌王全网热播', '90725376', 'USD', '0.0', '7446', '8', '4.0', '4.5', '5.0.8', '12+', 'Entertainment', '24', '4', '1', '1']\n",
      "\n",
      "\n",
      "['336141475', '优酷视频', '204959744', 'USD', '0.0', '4885', '0', '3.5', '0.0', '6.7.0', '12+', 'Entertainment', '38', '0', '2', '1']\n",
      "\n",
      "\n",
      "['425349261', '网易新闻 - 精选好内容，算出你的兴趣', '133134336', 'USD', '0.0', '4263', '6', '4.5', '1.0', '23.2', '17+', 'News', '37', '4', '2', '1']\n",
      "\n",
      "\n",
      "Number of rows: 1014\n",
      "Number of columns 16\n"
     ]
    }
   ],
   "source": [
    "explore_data(non_english_iOS_apps, 0, 4, True)"
   ]
  },
  {
   "cell_type": "code",
   "execution_count": 19,
   "metadata": {},
   "outputs": [
    {
     "name": "stdout",
     "output_type": "stream",
     "text": [
      "['284882215', 'Facebook', '389879808', 'USD', '0.0', '2974676', '212', '3.5', '3.5', '95.0', '4+', 'Social Networking', '37', '1', '29', '1']\n",
      "\n",
      "\n",
      "['389801252', 'Instagram', '113954816', 'USD', '0.0', '2161558', '1289', '4.5', '4.0', '10.23', '12+', 'Photo & Video', '37', '0', '29', '1']\n",
      "\n",
      "\n",
      "['529479190', 'Clash of Clans', '116476928', 'USD', '0.0', '2130805', '579', '4.5', '4.5', '9.24.12', '9+', 'Games', '38', '5', '18', '1']\n",
      "\n",
      "\n",
      "['420009108', 'Temple Run', '65921024', 'USD', '0.0', '1724546', '3842', '4.5', '4.0', '1.6.2', '9+', 'Games', '40', '5', '1', '1']\n",
      "\n",
      "\n",
      "Number of rows: 6183\n",
      "Number of columns 16\n"
     ]
    }
   ],
   "source": [
    "explore_data(english_iOS_apps, 0, 4, True)"
   ]
  },
  {
   "cell_type": "markdown",
   "metadata": {},
   "source": [
    "## Filtering for free apps only"
   ]
  },
  {
   "cell_type": "code",
   "execution_count": 20,
   "metadata": {},
   "outputs": [],
   "source": [
    "free_android_apps = []\n",
    "\n",
    "for each_list in english_android_apps:\n",
    "    cost = each_list[7]\n",
    "    if cost == '0':\n",
    "        free_android_apps.append(each_list)"
   ]
  },
  {
   "cell_type": "code",
   "execution_count": 21,
   "metadata": {},
   "outputs": [
    {
     "name": "stdout",
     "output_type": "stream",
     "text": [
      "['Photo Editor & Candy Camera & Grid & ScrapBook', 'ART_AND_DESIGN', '4.1', '159', '19M', '10,000+', 'Free', '0', 'Everyone', 'Art & Design', 'January 7, 2018', '1.0.0', '4.0.3 and up']\n",
      "\n",
      "\n",
      "['U Launcher Lite – FREE Live Cool Themes, Hide Apps', 'ART_AND_DESIGN', '4.7', '87510', '8.7M', '5,000,000+', 'Free', '0', 'Everyone', 'Art & Design', 'August 1, 2018', '1.2.4', '4.0.3 and up']\n",
      "\n",
      "\n",
      "['Sketch - Draw & Paint', 'ART_AND_DESIGN', '4.5', '215644', '25M', '50,000,000+', 'Free', '0', 'Teen', 'Art & Design', 'June 8, 2018', 'Varies with device', '4.2 and up']\n",
      "\n",
      "\n",
      "['Pixel Draw - Number Art Coloring Book', 'ART_AND_DESIGN', '4.3', '967', '2.8M', '100,000+', 'Free', '0', 'Everyone', 'Art & Design;Creativity', 'June 20, 2018', '1.1', '4.4 and up']\n",
      "\n",
      "\n",
      "['Paper flowers instructions', 'ART_AND_DESIGN', '4.4', '167', '5.6M', '50,000+', 'Free', '0', 'Everyone', 'Art & Design', 'March 26, 2017', '1.0', '2.3 and up']\n",
      "\n",
      "\n",
      "Number of rows: 8864\n",
      "Number of columns 13\n"
     ]
    }
   ],
   "source": [
    "explore_data(free_android_apps, 0, 5, True)"
   ]
  },
  {
   "cell_type": "code",
   "execution_count": 22,
   "metadata": {},
   "outputs": [],
   "source": [
    "free_iOS_apps = []\n",
    "\n",
    "for each_list in english_iOS_apps:\n",
    "    cost = each_list[4]\n",
    "    if cost == '0.0':\n",
    "        free_iOS_apps.append(each_list)"
   ]
  },
  {
   "cell_type": "code",
   "execution_count": 23,
   "metadata": {},
   "outputs": [
    {
     "name": "stdout",
     "output_type": "stream",
     "text": [
      "['284882215', 'Facebook', '389879808', 'USD', '0.0', '2974676', '212', '3.5', '3.5', '95.0', '4+', 'Social Networking', '37', '1', '29', '1']\n",
      "\n",
      "\n",
      "['389801252', 'Instagram', '113954816', 'USD', '0.0', '2161558', '1289', '4.5', '4.0', '10.23', '12+', 'Photo & Video', '37', '0', '29', '1']\n",
      "\n",
      "\n",
      "['529479190', 'Clash of Clans', '116476928', 'USD', '0.0', '2130805', '579', '4.5', '4.5', '9.24.12', '9+', 'Games', '38', '5', '18', '1']\n",
      "\n",
      "\n",
      "['420009108', 'Temple Run', '65921024', 'USD', '0.0', '1724546', '3842', '4.5', '4.0', '1.6.2', '9+', 'Games', '40', '5', '1', '1']\n",
      "\n",
      "\n",
      "['284035177', 'Pandora - Music & Radio', '130242560', 'USD', '0.0', '1126879', '3594', '4.0', '4.5', '8.4.1', '12+', 'Music', '37', '4', '1', '1']\n",
      "\n",
      "\n",
      "Number of rows: 3222\n",
      "Number of columns 16\n"
     ]
    }
   ],
   "source": [
    "explore_data(free_iOS_apps, 0, 5, True)"
   ]
  },
  {
   "cell_type": "markdown",
   "metadata": {},
   "source": [
    "## Creating a frequency table function"
   ]
  },
  {
   "cell_type": "code",
   "execution_count": 24,
   "metadata": {},
   "outputs": [],
   "source": [
    "def freq_table(dataset, column):\n",
    "    freq_dict = {}\n",
    "    occur = 0\n",
    "    for each_list in dataset:\n",
    "        occur += 1\n",
    "        val = each_list[column]\n",
    "        if val in freq_dict:\n",
    "            freq_dict[val] += 1\n",
    "        else:\n",
    "            freq_dict[val] = 1\n",
    "            \n",
    "    perc_dict = {}\n",
    "    for each_key in freq_dict:\n",
    "        percentages = round(freq_dict[each_key] / occur * 100, 3)\n",
    "        perc_dict[each_key] = percentages\n",
    "    \n",
    "    return freq_dict, perc_dict"
   ]
  },
  {
   "cell_type": "markdown",
   "metadata": {},
   "source": [
    "## Creating sorted table functions"
   ]
  },
  {
   "cell_type": "code",
   "execution_count": 25,
   "metadata": {},
   "outputs": [],
   "source": [
    "def display_freq(dataset, column):\n",
    "    table = freq_table(dataset, column)[0]\n",
    "    table_display = []\n",
    "    for key in table:\n",
    "        key_tuple = (table[key], key)\n",
    "        table_display.append(key_tuple)\n",
    "    \n",
    "    table_sorted = sorted(table_display, reverse = True)\n",
    "    for val in table_sorted:\n",
    "        print(val[1], ':', val[0])"
   ]
  },
  {
   "cell_type": "code",
   "execution_count": 26,
   "metadata": {},
   "outputs": [],
   "source": [
    "def display_percent(dataset, column):\n",
    "    table = freq_table(dataset, column)[1]\n",
    "    table_display = []\n",
    "    for key in table:\n",
    "        key_tuple = (table[key], key)\n",
    "        table_display.append(key_tuple)\n",
    "    \n",
    "    table_sorted = sorted(table_display, reverse = True)\n",
    "    for val in table_sorted:\n",
    "        print(val[1], ':', val[0])"
   ]
  },
  {
   "cell_type": "markdown",
   "metadata": {},
   "source": [
    "## Google Play App Breakdown - Free, English Apps"
   ]
  },
  {
   "cell_type": "markdown",
   "metadata": {},
   "source": [
    "'Family' (includes game-like apps), 'Game', 'Social', 'Lifestyle', and 'Shopping' comprise 37.443% of available apps.\n",
    "\n",
    "'Tools', ''Business', 'Productivity', 'Finance', 'Medical', 'Communication' comprised 27.414% of available apps."
   ]
  },
  {
   "cell_type": "code",
   "execution_count": 27,
   "metadata": {},
   "outputs": [
    {
     "name": "stdout",
     "output_type": "stream",
     "text": [
      "FAMILY : 18.908\n",
      "GAME : 9.725\n",
      "TOOLS : 8.461\n",
      "BUSINESS : 4.592\n",
      "LIFESTYLE : 3.903\n",
      "PRODUCTIVITY : 3.892\n",
      "FINANCE : 3.7\n",
      "MEDICAL : 3.531\n",
      "SPORTS : 3.396\n",
      "PERSONALIZATION : 3.317\n",
      "COMMUNICATION : 3.238\n",
      "HEALTH_AND_FITNESS : 3.08\n",
      "PHOTOGRAPHY : 2.944\n",
      "NEWS_AND_MAGAZINES : 2.798\n",
      "SOCIAL : 2.662\n",
      "TRAVEL_AND_LOCAL : 2.335\n",
      "SHOPPING : 2.245\n",
      "BOOKS_AND_REFERENCE : 2.144\n",
      "DATING : 1.861\n",
      "VIDEO_PLAYERS : 1.794\n",
      "MAPS_AND_NAVIGATION : 1.399\n",
      "FOOD_AND_DRINK : 1.241\n",
      "EDUCATION : 1.162\n",
      "ENTERTAINMENT : 0.959\n",
      "LIBRARIES_AND_DEMO : 0.936\n",
      "AUTO_AND_VEHICLES : 0.925\n",
      "HOUSE_AND_HOME : 0.824\n",
      "WEATHER : 0.801\n",
      "EVENTS : 0.711\n",
      "PARENTING : 0.654\n",
      "ART_AND_DESIGN : 0.643\n",
      "COMICS : 0.62\n",
      "BEAUTY : 0.598\n"
     ]
    }
   ],
   "source": [
    "display_percent(free_android_apps, 1) # 1 == Category"
   ]
  },
  {
   "cell_type": "markdown",
   "metadata": {},
   "source": [
    "Almost all apps are rated for content. Less than 5% of apps are for 'Mature 17+' and 'Adults only 18+'."
   ]
  },
  {
   "cell_type": "code",
   "execution_count": 28,
   "metadata": {},
   "outputs": [
    {
     "name": "stdout",
     "output_type": "stream",
     "text": [
      "Everyone : 81.431\n",
      "Teen : 11.056\n",
      "Mature 17+ : 4.185\n",
      "Everyone 10+ : 3.272\n",
      "Adults only 18+ : 0.034\n",
      "Unrated : 0.023\n"
     ]
    }
   ],
   "source": [
    "display_percent(free_android_apps, 8) # 8 == Content Rating"
   ]
  },
  {
   "cell_type": "markdown",
   "metadata": {},
   "source": [
    "Only 20 apps have reached +1.0Bn installs. 3,371 apps have reached +1.0MM installs."
   ]
  },
  {
   "cell_type": "code",
   "execution_count": 29,
   "metadata": {},
   "outputs": [
    {
     "name": "stdout",
     "output_type": "stream",
     "text": [
      "1,000,000+ : 1394\n",
      "100,000+ : 1024\n",
      "10,000,000+ : 935\n",
      "10,000+ : 904\n",
      "1,000+ : 744\n",
      "100+ : 613\n",
      "5,000,000+ : 605\n",
      "500,000+ : 493\n",
      "50,000+ : 423\n",
      "5,000+ : 400\n",
      "10+ : 314\n",
      "500+ : 288\n",
      "50,000,000+ : 204\n",
      "100,000,000+ : 189\n",
      "50+ : 170\n",
      "5+ : 70\n",
      "1+ : 45\n",
      "500,000,000+ : 24\n",
      "1,000,000,000+ : 20\n",
      "0+ : 4\n",
      "0 : 1\n"
     ]
    }
   ],
   "source": [
    "display_freq(free_android_apps, 5) # 5 == Installs"
   ]
  },
  {
   "cell_type": "markdown",
   "metadata": {},
   "source": [
    "77.844% of apps have a rating of 3.5 or better."
   ]
  },
  {
   "cell_type": "code",
   "execution_count": 30,
   "metadata": {},
   "outputs": [
    {
     "name": "stdout",
     "output_type": "stream",
     "text": [
      "NaN : 14.644\n",
      "4.3 : 9.522\n",
      "4.4 : 9.285\n",
      "4.5 : 8.811\n",
      "4.2 : 8.472\n",
      "4.6 : 6.837\n",
      "4.1 : 6.679\n",
      "4.0 : 5.517\n",
      "4.7 : 4.321\n",
      "3.9 : 3.87\n",
      "3.8 : 3.012\n",
      "5.0 : 2.741\n",
      "3.7 : 2.403\n",
      "4.8 : 2.065\n",
      "3.6 : 1.771\n",
      "3.5 : 1.647\n",
      "3.4 : 1.309\n",
      "3.3 : 1.072\n",
      "4.9 : 0.891\n",
      "3.0 : 0.824\n",
      "3.1 : 0.733\n",
      "3.2 : 0.688\n",
      "2.9 : 0.44\n",
      "2.8 : 0.417\n",
      "2.6 : 0.248\n",
      "2.7 : 0.237\n",
      "2.5 : 0.214\n",
      "2.3 : 0.203\n",
      "2.4 : 0.192\n",
      "2.2 : 0.158\n",
      "1.0 : 0.158\n",
      "2.0 : 0.124\n",
      "1.9 : 0.124\n",
      "2.1 : 0.09\n",
      "1.8 : 0.079\n",
      "1.7 : 0.079\n",
      "1.6 : 0.045\n",
      "1.5 : 0.034\n",
      "1.4 : 0.034\n",
      "1.2 : 0.011\n"
     ]
    }
   ],
   "source": [
    "display_percent(free_android_apps, 2) # 2 == App Ratings"
   ]
  },
  {
   "cell_type": "markdown",
   "metadata": {},
   "source": [
    "## App Store App Breakdown - Free, English Apps"
   ]
  },
  {
   "cell_type": "markdown",
   "metadata": {},
   "source": [
    "'Games', 'Entertainment', 'Photo & Video', 'Social Networking', and 'Shopping' comprise 76.909% of available apps.\n",
    "\n",
    "'Utilities', ''Business', 'Productivity', 'Finance', and 'Medical comprised only 6.083% of available apps."
   ]
  },
  {
   "cell_type": "code",
   "execution_count": 31,
   "metadata": {},
   "outputs": [
    {
     "name": "stdout",
     "output_type": "stream",
     "text": [
      "Games : 58.163\n",
      "Entertainment : 7.883\n",
      "Photo & Video : 4.966\n",
      "Education : 3.662\n",
      "Social Networking : 3.29\n",
      "Shopping : 2.607\n",
      "Utilities : 2.514\n",
      "Sports : 2.142\n",
      "Music : 2.048\n",
      "Health & Fitness : 2.017\n",
      "Productivity : 1.738\n",
      "Lifestyle : 1.583\n",
      "News : 1.335\n",
      "Travel : 1.241\n",
      "Finance : 1.117\n",
      "Weather : 0.869\n",
      "Food & Drink : 0.807\n",
      "Reference : 0.559\n",
      "Business : 0.528\n",
      "Book : 0.435\n",
      "Navigation : 0.186\n",
      "Medical : 0.186\n",
      "Catalogs : 0.124\n"
     ]
    }
   ],
   "source": [
    "display_percent(free_iOS_apps, -5) # -5 == Category"
   ]
  },
  {
   "cell_type": "markdown",
   "metadata": {},
   "source": [
    "Less than 6.5% of App Store apps are rated '17+'."
   ]
  },
  {
   "cell_type": "code",
   "execution_count": 32,
   "metadata": {},
   "outputs": [
    {
     "name": "stdout",
     "output_type": "stream",
     "text": [
      "4+ : 65.86\n",
      "12+ : 17.07\n",
      "9+ : 10.646\n",
      "17+ : 6.425\n"
     ]
    }
   ],
   "source": [
    "display_percent(free_iOS_apps, -6) # -6 == Content Rating"
   ]
  },
  {
   "cell_type": "markdown",
   "metadata": {},
   "source": [
    "77.623% of apps have a rating of 3.5 or greater."
   ]
  },
  {
   "cell_type": "code",
   "execution_count": 33,
   "metadata": {},
   "outputs": [
    {
     "name": "stdout",
     "output_type": "stream",
     "text": [
      "4.5 : 42.862\n",
      "4.0 : 24.302\n",
      "3.5 : 10.459\n",
      "3.0 : 6.052\n",
      "5.0 : 5.866\n",
      "0.0 : 4.687\n",
      "2.5 : 3.259\n",
      "2.0 : 1.552\n",
      "1.5 : 0.652\n",
      "1.0 : 0.31\n"
     ]
    }
   ],
   "source": [
    "display_percent(free_iOS_apps, 7) # 7 == User Reviews"
   ]
  },
  {
   "cell_type": "code",
   "execution_count": 34,
   "metadata": {},
   "outputs": [],
   "source": [
    "iOS_genre = freq_table(free_iOS_apps, -5)[1]"
   ]
  },
  {
   "cell_type": "code",
   "execution_count": 35,
   "metadata": {},
   "outputs": [
    {
     "data": {
      "text/plain": [
       "{'Social Networking': 3.29,\n",
       " 'Photo & Video': 4.966,\n",
       " 'Games': 58.163,\n",
       " 'Music': 2.048,\n",
       " 'Reference': 0.559,\n",
       " 'Health & Fitness': 2.017,\n",
       " 'Weather': 0.869,\n",
       " 'Utilities': 2.514,\n",
       " 'Travel': 1.241,\n",
       " 'Shopping': 2.607,\n",
       " 'News': 1.335,\n",
       " 'Navigation': 0.186,\n",
       " 'Lifestyle': 1.583,\n",
       " 'Entertainment': 7.883,\n",
       " 'Food & Drink': 0.807,\n",
       " 'Sports': 2.142,\n",
       " 'Book': 0.435,\n",
       " 'Finance': 1.117,\n",
       " 'Education': 3.662,\n",
       " 'Productivity': 1.738,\n",
       " 'Business': 0.528,\n",
       " 'Catalogs': 0.124,\n",
       " 'Medical': 0.186}"
      ]
     },
     "execution_count": 35,
     "metadata": {},
     "output_type": "execute_result"
    }
   ],
   "source": [
    "iOS_genre"
   ]
  },
  {
   "cell_type": "markdown",
   "metadata": {},
   "source": [
    "## No. Installs data for App Store - avg. rating counts by genre used as a proxy"
   ]
  },
  {
   "cell_type": "markdown",
   "metadata": {},
   "source": [
    "Genres with the highest average rating counts:\n",
    "    1. Navigation - 86,090.3 - large influece from WAZE (345,046) and Google Maps (154,911)\n",
    "    2. Reference - 74,942.1 - large influence from Bible (985,920) and Dictionary.com Desktop + iPad (254,222)\n",
    "    3. Social Networking - 71,548.3\n",
    "Genres with the lowest average rating counts:\n",
    "    21. Education - 7004.0\n",
    "    22. Catalogs - 4004.0\n",
    "    23. Medical - 612.0"
   ]
  },
  {
   "cell_type": "code",
   "execution_count": 36,
   "metadata": {},
   "outputs": [
    {
     "name": "stdout",
     "output_type": "stream",
     "text": [
      "Social Networking : 71548.3\n",
      "Photo & Video : 28441.5\n",
      "Games : 22788.7\n",
      "Music : 57326.5\n",
      "Reference : 74942.1\n",
      "Health & Fitness : 23298.0\n",
      "Weather : 52279.9\n",
      "Utilities : 18684.5\n",
      "Travel : 28243.8\n",
      "Shopping : 26919.7\n",
      "News : 21248.0\n",
      "Navigation : 86090.3\n",
      "Lifestyle : 16485.8\n",
      "Entertainment : 14029.8\n",
      "Food & Drink : 33333.9\n",
      "Sports : 23008.9\n",
      "Book : 39758.5\n",
      "Finance : 31467.9\n",
      "Education : 7004.0\n",
      "Productivity : 21028.4\n",
      "Business : 7491.1\n",
      "Catalogs : 4004.0\n",
      "Medical : 612.0\n"
     ]
    }
   ],
   "source": [
    "for genre_key in iOS_genre:\n",
    "    total = 0\n",
    "    len_genre = 0\n",
    "    for each_list in free_iOS_apps:\n",
    "        app_genre = each_list[-5]\n",
    "        if app_genre == genre_key:\n",
    "            n_user_reviews = float(each_list[5])\n",
    "            total += n_user_reviews\n",
    "            len_genre += 1\n",
    "    avg_n_users = total / len_genre\n",
    "    print(genre_key, \":\", round(avg_n_users,1))"
   ]
  },
  {
   "cell_type": "code",
   "execution_count": 37,
   "metadata": {},
   "outputs": [
    {
     "name": "stdout",
     "output_type": "stream",
     "text": [
      "Waze - GPS Navigation, Maps & Real-time Traffic : 345046\n",
      "Google Maps - Navigation & Transit : 154911\n",
      "Geocaching® : 12811\n",
      "CoPilot GPS – Car Navigation & Offline Maps : 3582\n",
      "ImmobilienScout24: Real Estate Search in Germany : 187\n",
      "Railway Route Search : 5\n"
     ]
    }
   ],
   "source": [
    "for each_list in free_iOS_apps:\n",
    "    if each_list[-5] == 'Navigation':\n",
    "        print(each_list[1], \":\", each_list[5])"
   ]
  },
  {
   "cell_type": "code",
   "execution_count": 38,
   "metadata": {},
   "outputs": [
    {
     "name": "stdout",
     "output_type": "stream",
     "text": [
      "Bible : 985920\n",
      "Dictionary.com Dictionary & Thesaurus : 200047\n",
      "Dictionary.com Dictionary & Thesaurus for iPad : 54175\n",
      "Google Translate : 26786\n",
      "Muslim Pro: Ramadan 2017 Prayer Times, Azan, Quran : 18418\n",
      "New Furniture Mods - Pocket Wiki & Game Tools for Minecraft PC Edition : 17588\n",
      "Merriam-Webster Dictionary : 16849\n",
      "Night Sky : 12122\n",
      "City Maps for Minecraft PE - The Best Maps for Minecraft Pocket Edition (MCPE) : 8535\n",
      "LUCKY BLOCK MOD ™ for Minecraft PC Edition - The Best Pocket Wiki & Mods Installer Tools : 4693\n",
      "GUNS MODS for Minecraft PC Edition - Mods Tools : 1497\n",
      "Guides for Pokémon GO - Pokemon GO News and Cheats : 826\n",
      "WWDC : 762\n",
      "Horror Maps for Minecraft PE - Download The Scariest Maps for Minecraft Pocket Edition (MCPE) Free : 718\n",
      "VPN Express : 14\n",
      "Real Bike Traffic Rider Virtual Reality Glasses : 8\n",
      "教えて!goo : 0\n",
      "Jishokun-Japanese English Dictionary & Translator : 0\n"
     ]
    }
   ],
   "source": [
    "for each_list in free_iOS_apps:\n",
    "    if each_list[-5] == 'Reference':\n",
    "        print(each_list[1], \":\", each_list[5])"
   ]
  },
  {
   "cell_type": "code",
   "execution_count": 39,
   "metadata": {},
   "outputs": [],
   "source": [
    "android_category = freq_table(free_android_apps, 1)[1]"
   ]
  },
  {
   "cell_type": "code",
   "execution_count": 40,
   "metadata": {},
   "outputs": [
    {
     "data": {
      "text/plain": [
       "{'ART_AND_DESIGN': 0.643,\n",
       " 'AUTO_AND_VEHICLES': 0.925,\n",
       " 'BEAUTY': 0.598,\n",
       " 'BOOKS_AND_REFERENCE': 2.144,\n",
       " 'BUSINESS': 4.592,\n",
       " 'COMICS': 0.62,\n",
       " 'COMMUNICATION': 3.238,\n",
       " 'DATING': 1.861,\n",
       " 'EDUCATION': 1.162,\n",
       " 'ENTERTAINMENT': 0.959,\n",
       " 'EVENTS': 0.711,\n",
       " 'FINANCE': 3.7,\n",
       " 'FOOD_AND_DRINK': 1.241,\n",
       " 'HEALTH_AND_FITNESS': 3.08,\n",
       " 'HOUSE_AND_HOME': 0.824,\n",
       " 'LIBRARIES_AND_DEMO': 0.936,\n",
       " 'LIFESTYLE': 3.903,\n",
       " 'GAME': 9.725,\n",
       " 'FAMILY': 18.908,\n",
       " 'MEDICAL': 3.531,\n",
       " 'SOCIAL': 2.662,\n",
       " 'SHOPPING': 2.245,\n",
       " 'PHOTOGRAPHY': 2.944,\n",
       " 'SPORTS': 3.396,\n",
       " 'TRAVEL_AND_LOCAL': 2.335,\n",
       " 'TOOLS': 8.461,\n",
       " 'PERSONALIZATION': 3.317,\n",
       " 'PRODUCTIVITY': 3.892,\n",
       " 'PARENTING': 0.654,\n",
       " 'WEATHER': 0.801,\n",
       " 'VIDEO_PLAYERS': 1.794,\n",
       " 'NEWS_AND_MAGAZINES': 2.798,\n",
       " 'MAPS_AND_NAVIGATION': 1.399}"
      ]
     },
     "execution_count": 40,
     "metadata": {},
     "output_type": "execute_result"
    }
   ],
   "source": [
    "android_category"
   ]
  },
  {
   "cell_type": "markdown",
   "metadata": {},
   "source": [
    "## No. Installs for Google Play"
   ]
  },
  {
   "cell_type": "markdown",
   "metadata": {},
   "source": [
    "'Communication' has the highest amount of apps installs - 38,456,119.2 - this average is heavily skewed by WhatsApp, Messenger, Skype, Google Chrome, Gmail, and Hangouts since all have 1,000,000,000+ installs. Removing the few apps with greater than 100MM installs, the average 'Communication' app has 3,603,485 installs."
   ]
  },
  {
   "cell_type": "code",
   "execution_count": 41,
   "metadata": {},
   "outputs": [
    {
     "name": "stdout",
     "output_type": "stream",
     "text": [
      "ART_AND_DESIGN ; 1986335.1\n",
      "AUTO_AND_VEHICLES ; 647317.8\n",
      "BEAUTY ; 513151.9\n",
      "BOOKS_AND_REFERENCE ; 8767811.9\n",
      "BUSINESS ; 1712290.1\n",
      "COMICS ; 817657.3\n",
      "COMMUNICATION ; 38456119.2\n",
      "DATING ; 854028.8\n",
      "EDUCATION ; 1833495.1\n",
      "ENTERTAINMENT ; 11640705.9\n",
      "EVENTS ; 253542.2\n",
      "FINANCE ; 1387692.5\n",
      "FOOD_AND_DRINK ; 1924897.7\n",
      "HEALTH_AND_FITNESS ; 4188822.0\n",
      "HOUSE_AND_HOME ; 1331540.6\n",
      "LIBRARIES_AND_DEMO ; 638503.7\n",
      "LIFESTYLE ; 1437816.3\n",
      "GAME ; 15588015.6\n",
      "FAMILY ; 3695641.8\n",
      "MEDICAL ; 120550.6\n",
      "SOCIAL ; 23253652.1\n",
      "SHOPPING ; 7036877.3\n",
      "PHOTOGRAPHY ; 17840110.4\n",
      "SPORTS ; 3638640.1\n",
      "TRAVEL_AND_LOCAL ; 13984077.7\n",
      "TOOLS ; 10801391.3\n",
      "PERSONALIZATION ; 5201482.6\n",
      "PRODUCTIVITY ; 16787331.3\n",
      "PARENTING ; 542603.6\n",
      "WEATHER ; 5074486.2\n",
      "VIDEO_PLAYERS ; 24727872.5\n",
      "NEWS_AND_MAGAZINES ; 9549178.5\n",
      "MAPS_AND_NAVIGATION ; 4056941.8\n"
     ]
    }
   ],
   "source": [
    "for genre_key in android_category:\n",
    "    total = 0\n",
    "    len_category = 0\n",
    "    for each_list in free_android_apps:\n",
    "        category_app = each_list[1]\n",
    "        if category_app == genre_key:\n",
    "            n_installs = each_list[5]\n",
    "            n_installs = n_installs.replace('+', '')\n",
    "            n_installs = n_installs.replace(',', '')\n",
    "            n_installs = float(n_installs)\n",
    "            total += n_installs\n",
    "            len_category += 1\n",
    "    avg_n_installs = total / len_category\n",
    "    print(genre_key, \";\", round(avg_n_installs, 1))"
   ]
  },
  {
   "cell_type": "code",
   "execution_count": 42,
   "metadata": {},
   "outputs": [
    {
     "name": "stdout",
     "output_type": "stream",
     "text": [
      "WhatsApp Messenger : 1,000,000,000+\n",
      "Google Duo - High Quality Video Calls : 500,000,000+\n",
      "Messenger – Text and Video Chat for Free : 1,000,000,000+\n",
      "imo free video calls and chat : 500,000,000+\n",
      "Skype - free IM & video calls : 1,000,000,000+\n",
      "LINE: Free Calls & Messages : 500,000,000+\n",
      "Google Chrome: Fast & Secure : 1,000,000,000+\n",
      "UC Browser - Fast Download Private & Secure : 500,000,000+\n",
      "Gmail : 1,000,000,000+\n",
      "Hangouts : 1,000,000,000+\n",
      "Viber Messenger : 500,000,000+\n"
     ]
    }
   ],
   "source": [
    "for each_list in free_android_apps:\n",
    "    if each_list[1] == 'COMMUNICATION' and (each_list[5] == '1,000,000,000+'\n",
    "                                            or each_list[5] == '500,000,000+'):\n",
    "        print(each_list[0], ':', each_list[5])"
   ]
  },
  {
   "cell_type": "code",
   "execution_count": 43,
   "metadata": {},
   "outputs": [
    {
     "data": {
      "text/plain": [
       "3603485.3884615386"
      ]
     },
     "execution_count": 43,
     "metadata": {},
     "output_type": "execute_result"
    }
   ],
   "source": [
    "comm_under_100MM = []\n",
    "\n",
    "for each_list in free_android_apps:\n",
    "    n_installs = each_list[5]\n",
    "    n_installs = n_installs.replace('+','')\n",
    "    n_installs = n_installs.replace(',','')\n",
    "    if each_list[1] == 'COMMUNICATION' and (float(n_installs) < 100000000):\n",
    "        comm_under_100MM.append(float(n_installs))\n",
    "\n",
    "sum(comm_under_100MM) / len(comm_under_100MM)"
   ]
  }
 ],
 "metadata": {
  "kernelspec": {
   "display_name": "Python 3",
   "language": "python",
   "name": "python3"
  },
  "language_info": {
   "codemirror_mode": {
    "name": "ipython",
    "version": 3
   },
   "file_extension": ".py",
   "mimetype": "text/x-python",
   "name": "python",
   "nbconvert_exporter": "python",
   "pygments_lexer": "ipython3",
   "version": "3.7.4"
  }
 },
 "nbformat": 4,
 "nbformat_minor": 2
}
