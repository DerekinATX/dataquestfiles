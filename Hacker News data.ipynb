{
 "cells": [
  {
   "cell_type": "code",
   "execution_count": 1,
   "metadata": {},
   "outputs": [],
   "source": [
    "from csv import reader\n",
    "import datetime as dt\n",
    "opened_file = open('hacker_news.csv')\n",
    "read_file = reader(opened_file)\n",
    "hn = list(read_file)"
   ]
  },
  {
   "cell_type": "code",
   "execution_count": 2,
   "metadata": {},
   "outputs": [],
   "source": [
    "headers = hn[0]"
   ]
  },
  {
   "cell_type": "code",
   "execution_count": 3,
   "metadata": {},
   "outputs": [],
   "source": [
    "hn = hn[1:]"
   ]
  },
  {
   "cell_type": "code",
   "execution_count": 4,
   "metadata": {},
   "outputs": [
    {
     "name": "stdout",
     "output_type": "stream",
     "text": [
      "1744\n",
      "1162\n",
      "17194\n"
     ]
    }
   ],
   "source": [
    "ask_posts = []\n",
    "show_posts = []\n",
    "other_posts = []\n",
    "\n",
    "for each_post in hn:\n",
    "    title = each_post[1]\n",
    "    title = title.lower()\n",
    "    if title.startswith(\"ask hn\"): #startswith is a method applied to strings\n",
    "        ask_posts.append(each_post)\n",
    "    elif title.startswith(\"show hn\"):\n",
    "        show_posts.append(each_post)\n",
    "    else:\n",
    "        other_posts.append(each_post)\n",
    "        \n",
    "print(len(ask_posts))\n",
    "print(len(show_posts))\n",
    "print(len(other_posts))"
   ]
  },
  {
   "cell_type": "code",
   "execution_count": 5,
   "metadata": {},
   "outputs": [
    {
     "name": "stdout",
     "output_type": "stream",
     "text": [
      "Num of total_ask_comments: 24483\n",
      "Num of total_ask_posts: 1744\n",
      "Avg. Num of comments per post: 14.0\n"
     ]
    }
   ],
   "source": [
    "total_ask_comments = 0\n",
    "for each_post in ask_posts:\n",
    "    num_comments = each_post[4]\n",
    "    num_comments = int(num_comments)\n",
    "    total_ask_comments += num_comments\n",
    "\n",
    "print(\"Num of total_ask_comments: \" + str(total_ask_comments))\n",
    "print(\"Num of total_ask_posts: \" + str(len(ask_posts)))\n",
    "avg_ask_comments = total_ask_comments / len(ask_posts)\n",
    "print(\"Avg. Num of comments per post: \" + str(round(avg_ask_comments,1)))"
   ]
  },
  {
   "cell_type": "code",
   "execution_count": 6,
   "metadata": {},
   "outputs": [
    {
     "name": "stdout",
     "output_type": "stream",
     "text": [
      "Num of total_show_comments: 11988\n",
      "Num of total_show_posts: 1162\n",
      "Avg. Num of comments per post: 10.3\n"
     ]
    }
   ],
   "source": [
    "total_show_comments = 0\n",
    "for each_post in show_posts:\n",
    "    num_comments2 = each_post[4]\n",
    "    num_comments2 = int(num_comments2)\n",
    "    total_show_comments += num_comments2\n",
    "    \n",
    "print(\"Num of total_show_comments: \" + str(total_show_comments))\n",
    "print(\"Num of total_show_posts: \" + str(len(show_posts)))\n",
    "avg_show_comments = total_show_comments / len(show_posts)\n",
    "print(\"Avg. Num of comments per post: \" + str(round(avg_show_comments,1)))"
   ]
  },
  {
   "cell_type": "markdown",
   "metadata": {},
   "source": [
    "## Ask comments generate more comments relative to show posts."
   ]
  },
  {
   "cell_type": "code",
   "execution_count": 7,
   "metadata": {},
   "outputs": [],
   "source": [
    "result_list = []\n",
    "for each_post in ask_posts:\n",
    "    second_list = []\n",
    "    times_created = each_post[6]\n",
    "    num_comments3 = each_post[4]\n",
    "    second_list.append(times_created)\n",
    "    second_list.append(num_comments3)\n",
    "    result_list.append(second_list)"
   ]
  },
  {
   "cell_type": "code",
   "execution_count": 8,
   "metadata": {},
   "outputs": [],
   "source": [
    "counts_by_hour = {}\n",
    "comments_by_hour = {}\n",
    "\n",
    "for each_item in result_list:\n",
    "    counts_hour = each_item[0]\n",
    "    comments_post = int(each_item[1])\n",
    "    counts_hour = dt.datetime.strptime(counts_hour, '%m/%d/%Y %H:%M')\n",
    "    just_hour = counts_hour.strftime('%H')\n",
    "    if just_hour not in counts_by_hour:\n",
    "        counts_by_hour[just_hour] = 1\n",
    "        comments_by_hour[just_hour] = comments_post\n",
    "    else:\n",
    "        counts_by_hour[just_hour] += 1\n",
    "        comments_by_hour[just_hour] += comments_post"
   ]
  },
  {
   "cell_type": "code",
   "execution_count": 9,
   "metadata": {},
   "outputs": [
    {
     "name": "stdout",
     "output_type": "stream",
     "text": [
      "24\n",
      "24\n"
     ]
    }
   ],
   "source": [
    "print(len(counts_by_hour))\n",
    "print(len(comments_by_hour))"
   ]
  },
  {
   "cell_type": "code",
   "execution_count": 10,
   "metadata": {},
   "outputs": [],
   "source": [
    "avg_comments_by_hour = []\n",
    "\n",
    "for hour in counts_by_hour:\n",
    "    avg_comments_by_hour.append([hour, round((comments_by_hour[hour] / counts_by_hour[hour]),2)])"
   ]
  },
  {
   "cell_type": "code",
   "execution_count": 11,
   "metadata": {},
   "outputs": [
    {
     "data": {
      "text/plain": [
       "[['09', 5.58],\n",
       " ['13', 14.74],\n",
       " ['10', 13.44],\n",
       " ['14', 13.23],\n",
       " ['16', 16.8],\n",
       " ['23', 7.99],\n",
       " ['12', 9.41],\n",
       " ['17', 11.46],\n",
       " ['15', 38.59],\n",
       " ['21', 16.01],\n",
       " ['20', 21.52],\n",
       " ['02', 23.81],\n",
       " ['18', 13.2],\n",
       " ['03', 7.8],\n",
       " ['05', 10.09],\n",
       " ['19', 10.8],\n",
       " ['01', 11.38],\n",
       " ['22', 6.75],\n",
       " ['08', 10.25],\n",
       " ['04', 7.17],\n",
       " ['00', 8.13],\n",
       " ['06', 9.02],\n",
       " ['07', 7.85],\n",
       " ['11', 11.05]]"
      ]
     },
     "execution_count": 11,
     "metadata": {},
     "output_type": "execute_result"
    }
   ],
   "source": [
    "avg_comments_by_hour"
   ]
  },
  {
   "cell_type": "code",
   "execution_count": 12,
   "metadata": {},
   "outputs": [],
   "source": [
    "swap_avg_comments_by_hour = []\n",
    "for each_list in avg_comments_by_hour:\n",
    "    item1 = each_list[1]\n",
    "    item2 = each_list[0]\n",
    "    swap_avg_comments_by_hour.append([item1, item2])"
   ]
  },
  {
   "cell_type": "code",
   "execution_count": 13,
   "metadata": {},
   "outputs": [
    {
     "data": {
      "text/plain": [
       "[[5.58, '09'],\n",
       " [14.74, '13'],\n",
       " [13.44, '10'],\n",
       " [13.23, '14'],\n",
       " [16.8, '16'],\n",
       " [7.99, '23'],\n",
       " [9.41, '12'],\n",
       " [11.46, '17'],\n",
       " [38.59, '15'],\n",
       " [16.01, '21'],\n",
       " [21.52, '20'],\n",
       " [23.81, '02'],\n",
       " [13.2, '18'],\n",
       " [7.8, '03'],\n",
       " [10.09, '05'],\n",
       " [10.8, '19'],\n",
       " [11.38, '01'],\n",
       " [6.75, '22'],\n",
       " [10.25, '08'],\n",
       " [7.17, '04'],\n",
       " [8.13, '00'],\n",
       " [9.02, '06'],\n",
       " [7.85, '07'],\n",
       " [11.05, '11']]"
      ]
     },
     "execution_count": 13,
     "metadata": {},
     "output_type": "execute_result"
    }
   ],
   "source": [
    "swap_avg_comments_by_hour"
   ]
  },
  {
   "cell_type": "code",
   "execution_count": 14,
   "metadata": {},
   "outputs": [],
   "source": [
    "sorted_swap = (sorted(swap_avg_comments_by_hour, reverse = True))"
   ]
  },
  {
   "cell_type": "code",
   "execution_count": 15,
   "metadata": {},
   "outputs": [
    {
     "name": "stdout",
     "output_type": "stream",
     "text": [
      "Top 5 Hours for Ask Post Comments\n",
      "14:00: 38.6 average comments per post\n",
      "01:00: 23.8 average comments per post\n",
      "19:00: 21.5 average comments per post\n",
      "15:00: 16.8 average comments per post\n",
      "20:00: 16.0 average comments per post\n"
     ]
    }
   ],
   "source": [
    "print(\"Top 5 Hours for Ask Post Comments\")\n",
    "\n",
    "for each_hour in sorted_swap[:5]:\n",
    "    hour = each_hour[1]\n",
    "    avg_comment = each_hour[0]\n",
    "    hour = dt.datetime.strptime(hour, \"%H\")\n",
    "    hour = hour - dt.timedelta(hours = 1) #adjusting to CST from EST\n",
    "    hour = hour.strftime('%H')\n",
    "    print(\"{}:00: {:.1f} average comments per post\".format(hour, avg_comment))"
   ]
  },
  {
   "cell_type": "code",
   "execution_count": null,
   "metadata": {},
   "outputs": [],
   "source": []
  }
 ],
 "metadata": {
  "kernelspec": {
   "display_name": "Python 3",
   "language": "python",
   "name": "python3"
  },
  "language_info": {
   "codemirror_mode": {
    "name": "ipython",
    "version": 3
   },
   "file_extension": ".py",
   "mimetype": "text/x-python",
   "name": "python",
   "nbconvert_exporter": "python",
   "pygments_lexer": "ipython3",
   "version": "3.7.4"
  }
 },
 "nbformat": 4,
 "nbformat_minor": 2
}
