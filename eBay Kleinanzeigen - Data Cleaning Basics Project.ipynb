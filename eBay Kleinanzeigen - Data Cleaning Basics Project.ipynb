{
 "cells": [
  {
   "cell_type": "markdown",
   "metadata": {},
   "source": [
    "# eBay Kleinanzeigen - Data Cleaning Basics Project\n",
    "\n",
    "The assignment is to clean the data and analyze the included used car listings. eBay Kleinanzeigen is the classifieds section of the German eBay website. Dataquest sampled 50,000 data points from the full dataset and \n",
    "\"dirtied\" the dataset to more accurately resemble a scraped dataset. The original dataset on Kaggle can be found [here](https://www.kaggle.com/orgesleka/used-cars-database/data).\n",
    "\n",
    "The dataset includes the following columns:\n",
    "* dateCrawled - When this ad was first crawled. All field-values are taken from this date.\n",
    "* name - Name of the car.\n",
    "* seller - Whether the seller is private or a dealer.\n",
    "* offerType - The type of listing\n",
    "* price - The price on the ad to sell the car.\n",
    "* abtest - Whether the listing is included in an A/B test.\n",
    "* vehicleType - The vehicle Type.\n",
    "* yearOfRegistration - The year in which the car was first registered.\n",
    "* gearbox - The transmission type.\n",
    "* powerPS - The power of the car in PS.\n",
    "* model - The car model name.\n",
    "* kilometer - How many kilometers the car has driven.\n",
    "* monthOfRegistration - The month in which the car was first registered.\n",
    "* fuelType - What type of fuel the car uses.\n",
    "* brand - The brand of the car.\n",
    "* notRepairedDamage - If the car has a damage which is not yet repaired.\n",
    "* dateCreated - The date on which the eBay listing was created.\n",
    "* nrOfPictures - The number of pictures in the ad.\n",
    "* postalCode - The postal code for the location of the vehicle.\n",
    "* lastSeenOnline - When the crawler saw this ad last online."
   ]
  },
  {
   "cell_type": "code",
   "execution_count": 1,
   "metadata": {},
   "outputs": [],
   "source": [
    "import pandas as pd\n",
    "import numpy as np"
   ]
  },
  {
   "cell_type": "code",
   "execution_count": 2,
   "metadata": {},
   "outputs": [],
   "source": [
    "autos = pd.read_csv('autos.csv', encoding = 'Windows-1252')"
   ]
  },
  {
   "cell_type": "code",
   "execution_count": 3,
   "metadata": {},
   "outputs": [
    {
     "data": {
      "text/html": [
       "<div>\n",
       "<style scoped>\n",
       "    .dataframe tbody tr th:only-of-type {\n",
       "        vertical-align: middle;\n",
       "    }\n",
       "\n",
       "    .dataframe tbody tr th {\n",
       "        vertical-align: top;\n",
       "    }\n",
       "\n",
       "    .dataframe thead th {\n",
       "        text-align: right;\n",
       "    }\n",
       "</style>\n",
       "<table border=\"1\" class=\"dataframe\">\n",
       "  <thead>\n",
       "    <tr style=\"text-align: right;\">\n",
       "      <th></th>\n",
       "      <th>dateCrawled</th>\n",
       "      <th>name</th>\n",
       "      <th>seller</th>\n",
       "      <th>offerType</th>\n",
       "      <th>price</th>\n",
       "      <th>abtest</th>\n",
       "      <th>vehicleType</th>\n",
       "      <th>yearOfRegistration</th>\n",
       "      <th>gearbox</th>\n",
       "      <th>powerPS</th>\n",
       "      <th>model</th>\n",
       "      <th>odometer</th>\n",
       "      <th>monthOfRegistration</th>\n",
       "      <th>fuelType</th>\n",
       "      <th>brand</th>\n",
       "      <th>notRepairedDamage</th>\n",
       "      <th>dateCreated</th>\n",
       "      <th>nrOfPictures</th>\n",
       "      <th>postalCode</th>\n",
       "      <th>lastSeen</th>\n",
       "    </tr>\n",
       "  </thead>\n",
       "  <tbody>\n",
       "    <tr>\n",
       "      <td>0</td>\n",
       "      <td>2016-03-26 17:47:46</td>\n",
       "      <td>Peugeot_807_160_NAVTECH_ON_BOARD</td>\n",
       "      <td>privat</td>\n",
       "      <td>Angebot</td>\n",
       "      <td>$5,000</td>\n",
       "      <td>control</td>\n",
       "      <td>bus</td>\n",
       "      <td>2004</td>\n",
       "      <td>manuell</td>\n",
       "      <td>158</td>\n",
       "      <td>andere</td>\n",
       "      <td>150,000km</td>\n",
       "      <td>3</td>\n",
       "      <td>lpg</td>\n",
       "      <td>peugeot</td>\n",
       "      <td>nein</td>\n",
       "      <td>2016-03-26 00:00:00</td>\n",
       "      <td>0</td>\n",
       "      <td>79588</td>\n",
       "      <td>2016-04-06 06:45:54</td>\n",
       "    </tr>\n",
       "    <tr>\n",
       "      <td>1</td>\n",
       "      <td>2016-04-04 13:38:56</td>\n",
       "      <td>BMW_740i_4_4_Liter_HAMANN_UMBAU_Mega_Optik</td>\n",
       "      <td>privat</td>\n",
       "      <td>Angebot</td>\n",
       "      <td>$8,500</td>\n",
       "      <td>control</td>\n",
       "      <td>limousine</td>\n",
       "      <td>1997</td>\n",
       "      <td>automatik</td>\n",
       "      <td>286</td>\n",
       "      <td>7er</td>\n",
       "      <td>150,000km</td>\n",
       "      <td>6</td>\n",
       "      <td>benzin</td>\n",
       "      <td>bmw</td>\n",
       "      <td>nein</td>\n",
       "      <td>2016-04-04 00:00:00</td>\n",
       "      <td>0</td>\n",
       "      <td>71034</td>\n",
       "      <td>2016-04-06 14:45:08</td>\n",
       "    </tr>\n",
       "  </tbody>\n",
       "</table>\n",
       "</div>"
      ],
      "text/plain": [
       "           dateCrawled                                        name  seller  \\\n",
       "0  2016-03-26 17:47:46            Peugeot_807_160_NAVTECH_ON_BOARD  privat   \n",
       "1  2016-04-04 13:38:56  BMW_740i_4_4_Liter_HAMANN_UMBAU_Mega_Optik  privat   \n",
       "\n",
       "  offerType   price   abtest vehicleType  yearOfRegistration    gearbox  \\\n",
       "0   Angebot  $5,000  control         bus                2004    manuell   \n",
       "1   Angebot  $8,500  control   limousine                1997  automatik   \n",
       "\n",
       "   powerPS   model   odometer  monthOfRegistration fuelType    brand  \\\n",
       "0      158  andere  150,000km                    3      lpg  peugeot   \n",
       "1      286     7er  150,000km                    6   benzin      bmw   \n",
       "\n",
       "  notRepairedDamage          dateCreated  nrOfPictures  postalCode  \\\n",
       "0              nein  2016-03-26 00:00:00             0       79588   \n",
       "1              nein  2016-04-04 00:00:00             0       71034   \n",
       "\n",
       "              lastSeen  \n",
       "0  2016-04-06 06:45:54  \n",
       "1  2016-04-06 14:45:08  "
      ]
     },
     "execution_count": 3,
     "metadata": {},
     "output_type": "execute_result"
    }
   ],
   "source": [
    "autos.head(2)"
   ]
  },
  {
   "cell_type": "code",
   "execution_count": 4,
   "metadata": {},
   "outputs": [
    {
     "name": "stdout",
     "output_type": "stream",
     "text": [
      "<class 'pandas.core.frame.DataFrame'>\n",
      "RangeIndex: 50000 entries, 0 to 49999\n",
      "Data columns (total 20 columns):\n",
      "dateCrawled            50000 non-null object\n",
      "name                   50000 non-null object\n",
      "seller                 50000 non-null object\n",
      "offerType              50000 non-null object\n",
      "price                  50000 non-null object\n",
      "abtest                 50000 non-null object\n",
      "vehicleType            44905 non-null object\n",
      "yearOfRegistration     50000 non-null int64\n",
      "gearbox                47320 non-null object\n",
      "powerPS                50000 non-null int64\n",
      "model                  47242 non-null object\n",
      "odometer               50000 non-null object\n",
      "monthOfRegistration    50000 non-null int64\n",
      "fuelType               45518 non-null object\n",
      "brand                  50000 non-null object\n",
      "notRepairedDamage      40171 non-null object\n",
      "dateCreated            50000 non-null object\n",
      "nrOfPictures           50000 non-null int64\n",
      "postalCode             50000 non-null int64\n",
      "lastSeen               50000 non-null object\n",
      "dtypes: int64(5), object(15)\n",
      "memory usage: 7.6+ MB\n"
     ]
    }
   ],
   "source": [
    "autos.info()"
   ]
  },
  {
   "cell_type": "code",
   "execution_count": 5,
   "metadata": {},
   "outputs": [
    {
     "data": {
      "text/plain": [
       "Index(['dateCrawled', 'name', 'seller', 'offerType', 'price', 'abtest',\n",
       "       'vehicleType', 'yearOfRegistration', 'gearbox', 'powerPS', 'model',\n",
       "       'odometer', 'monthOfRegistration', 'fuelType', 'brand',\n",
       "       'notRepairedDamage', 'dateCreated', 'nrOfPictures', 'postalCode',\n",
       "       'lastSeen'],\n",
       "      dtype='object')"
      ]
     },
     "execution_count": 5,
     "metadata": {},
     "output_type": "execute_result"
    }
   ],
   "source": [
    "autos.columns"
   ]
  },
  {
   "cell_type": "code",
   "execution_count": 6,
   "metadata": {},
   "outputs": [],
   "source": [
    "def clean_col(col):\n",
    "    col = col.replace(\"yearOfRegistration\",\"registration_year\")\n",
    "    col = col.replace(\"monthOfRegistration\",\"registration_month\")\n",
    "    col = col.replace(\"notRepairedDamage\",\"unrepaired_damage\")\n",
    "    col = col.replace(\"dateCreated\",\"ad_created\")\n",
    "    col = col.replace(\" \",\"_\")\n",
    "    col = col.lower()\n",
    "    return col\n",
    "\n",
    "new_columns = []\n",
    "\n",
    "for c in autos.columns:\n",
    "    c = clean_col(c)\n",
    "    new_columns.append(c)\n",
    "\n",
    "autos.columns = new_columns"
   ]
  },
  {
   "cell_type": "code",
   "execution_count": 7,
   "metadata": {},
   "outputs": [
    {
     "data": {
      "text/html": [
       "<div>\n",
       "<style scoped>\n",
       "    .dataframe tbody tr th:only-of-type {\n",
       "        vertical-align: middle;\n",
       "    }\n",
       "\n",
       "    .dataframe tbody tr th {\n",
       "        vertical-align: top;\n",
       "    }\n",
       "\n",
       "    .dataframe thead th {\n",
       "        text-align: right;\n",
       "    }\n",
       "</style>\n",
       "<table border=\"1\" class=\"dataframe\">\n",
       "  <thead>\n",
       "    <tr style=\"text-align: right;\">\n",
       "      <th></th>\n",
       "      <th>datecrawled</th>\n",
       "      <th>name</th>\n",
       "      <th>seller</th>\n",
       "      <th>offertype</th>\n",
       "      <th>price</th>\n",
       "      <th>abtest</th>\n",
       "      <th>vehicletype</th>\n",
       "      <th>registration_year</th>\n",
       "      <th>gearbox</th>\n",
       "      <th>powerps</th>\n",
       "      <th>model</th>\n",
       "      <th>odometer</th>\n",
       "      <th>registration_month</th>\n",
       "      <th>fueltype</th>\n",
       "      <th>brand</th>\n",
       "      <th>unrepaired_damage</th>\n",
       "      <th>ad_created</th>\n",
       "      <th>nrofpictures</th>\n",
       "      <th>postalcode</th>\n",
       "      <th>lastseen</th>\n",
       "    </tr>\n",
       "  </thead>\n",
       "  <tbody>\n",
       "    <tr>\n",
       "      <td>0</td>\n",
       "      <td>2016-03-26 17:47:46</td>\n",
       "      <td>Peugeot_807_160_NAVTECH_ON_BOARD</td>\n",
       "      <td>privat</td>\n",
       "      <td>Angebot</td>\n",
       "      <td>$5,000</td>\n",
       "      <td>control</td>\n",
       "      <td>bus</td>\n",
       "      <td>2004</td>\n",
       "      <td>manuell</td>\n",
       "      <td>158</td>\n",
       "      <td>andere</td>\n",
       "      <td>150,000km</td>\n",
       "      <td>3</td>\n",
       "      <td>lpg</td>\n",
       "      <td>peugeot</td>\n",
       "      <td>nein</td>\n",
       "      <td>2016-03-26 00:00:00</td>\n",
       "      <td>0</td>\n",
       "      <td>79588</td>\n",
       "      <td>2016-04-06 06:45:54</td>\n",
       "    </tr>\n",
       "    <tr>\n",
       "      <td>1</td>\n",
       "      <td>2016-04-04 13:38:56</td>\n",
       "      <td>BMW_740i_4_4_Liter_HAMANN_UMBAU_Mega_Optik</td>\n",
       "      <td>privat</td>\n",
       "      <td>Angebot</td>\n",
       "      <td>$8,500</td>\n",
       "      <td>control</td>\n",
       "      <td>limousine</td>\n",
       "      <td>1997</td>\n",
       "      <td>automatik</td>\n",
       "      <td>286</td>\n",
       "      <td>7er</td>\n",
       "      <td>150,000km</td>\n",
       "      <td>6</td>\n",
       "      <td>benzin</td>\n",
       "      <td>bmw</td>\n",
       "      <td>nein</td>\n",
       "      <td>2016-04-04 00:00:00</td>\n",
       "      <td>0</td>\n",
       "      <td>71034</td>\n",
       "      <td>2016-04-06 14:45:08</td>\n",
       "    </tr>\n",
       "  </tbody>\n",
       "</table>\n",
       "</div>"
      ],
      "text/plain": [
       "           datecrawled                                        name  seller  \\\n",
       "0  2016-03-26 17:47:46            Peugeot_807_160_NAVTECH_ON_BOARD  privat   \n",
       "1  2016-04-04 13:38:56  BMW_740i_4_4_Liter_HAMANN_UMBAU_Mega_Optik  privat   \n",
       "\n",
       "  offertype   price   abtest vehicletype  registration_year    gearbox  \\\n",
       "0   Angebot  $5,000  control         bus               2004    manuell   \n",
       "1   Angebot  $8,500  control   limousine               1997  automatik   \n",
       "\n",
       "   powerps   model   odometer  registration_month fueltype    brand  \\\n",
       "0      158  andere  150,000km                   3      lpg  peugeot   \n",
       "1      286     7er  150,000km                   6   benzin      bmw   \n",
       "\n",
       "  unrepaired_damage           ad_created  nrofpictures  postalcode  \\\n",
       "0              nein  2016-03-26 00:00:00             0       79588   \n",
       "1              nein  2016-04-04 00:00:00             0       71034   \n",
       "\n",
       "              lastseen  \n",
       "0  2016-04-06 06:45:54  \n",
       "1  2016-04-06 14:45:08  "
      ]
     },
     "execution_count": 7,
     "metadata": {},
     "output_type": "execute_result"
    }
   ],
   "source": [
    "autos.head(2)"
   ]
  },
  {
   "cell_type": "code",
   "execution_count": 8,
   "metadata": {},
   "outputs": [
    {
     "data": {
      "text/html": [
       "<div>\n",
       "<style scoped>\n",
       "    .dataframe tbody tr th:only-of-type {\n",
       "        vertical-align: middle;\n",
       "    }\n",
       "\n",
       "    .dataframe tbody tr th {\n",
       "        vertical-align: top;\n",
       "    }\n",
       "\n",
       "    .dataframe thead th {\n",
       "        text-align: right;\n",
       "    }\n",
       "</style>\n",
       "<table border=\"1\" class=\"dataframe\">\n",
       "  <thead>\n",
       "    <tr style=\"text-align: right;\">\n",
       "      <th></th>\n",
       "      <th>registration_year</th>\n",
       "      <th>powerps</th>\n",
       "      <th>registration_month</th>\n",
       "      <th>nrofpictures</th>\n",
       "      <th>postalcode</th>\n",
       "    </tr>\n",
       "  </thead>\n",
       "  <tbody>\n",
       "    <tr>\n",
       "      <td>count</td>\n",
       "      <td>50000.000000</td>\n",
       "      <td>50000.000000</td>\n",
       "      <td>50000.000000</td>\n",
       "      <td>50000.0</td>\n",
       "      <td>50000.000000</td>\n",
       "    </tr>\n",
       "    <tr>\n",
       "      <td>mean</td>\n",
       "      <td>2005.073280</td>\n",
       "      <td>116.355920</td>\n",
       "      <td>5.723360</td>\n",
       "      <td>0.0</td>\n",
       "      <td>50813.627300</td>\n",
       "    </tr>\n",
       "    <tr>\n",
       "      <td>std</td>\n",
       "      <td>105.712813</td>\n",
       "      <td>209.216627</td>\n",
       "      <td>3.711984</td>\n",
       "      <td>0.0</td>\n",
       "      <td>25779.747957</td>\n",
       "    </tr>\n",
       "    <tr>\n",
       "      <td>min</td>\n",
       "      <td>1000.000000</td>\n",
       "      <td>0.000000</td>\n",
       "      <td>0.000000</td>\n",
       "      <td>0.0</td>\n",
       "      <td>1067.000000</td>\n",
       "    </tr>\n",
       "    <tr>\n",
       "      <td>25%</td>\n",
       "      <td>1999.000000</td>\n",
       "      <td>70.000000</td>\n",
       "      <td>3.000000</td>\n",
       "      <td>0.0</td>\n",
       "      <td>30451.000000</td>\n",
       "    </tr>\n",
       "    <tr>\n",
       "      <td>50%</td>\n",
       "      <td>2003.000000</td>\n",
       "      <td>105.000000</td>\n",
       "      <td>6.000000</td>\n",
       "      <td>0.0</td>\n",
       "      <td>49577.000000</td>\n",
       "    </tr>\n",
       "    <tr>\n",
       "      <td>75%</td>\n",
       "      <td>2008.000000</td>\n",
       "      <td>150.000000</td>\n",
       "      <td>9.000000</td>\n",
       "      <td>0.0</td>\n",
       "      <td>71540.000000</td>\n",
       "    </tr>\n",
       "    <tr>\n",
       "      <td>max</td>\n",
       "      <td>9999.000000</td>\n",
       "      <td>17700.000000</td>\n",
       "      <td>12.000000</td>\n",
       "      <td>0.0</td>\n",
       "      <td>99998.000000</td>\n",
       "    </tr>\n",
       "  </tbody>\n",
       "</table>\n",
       "</div>"
      ],
      "text/plain": [
       "       registration_year       powerps  registration_month  nrofpictures  \\\n",
       "count       50000.000000  50000.000000        50000.000000       50000.0   \n",
       "mean         2005.073280    116.355920            5.723360           0.0   \n",
       "std           105.712813    209.216627            3.711984           0.0   \n",
       "min          1000.000000      0.000000            0.000000           0.0   \n",
       "25%          1999.000000     70.000000            3.000000           0.0   \n",
       "50%          2003.000000    105.000000            6.000000           0.0   \n",
       "75%          2008.000000    150.000000            9.000000           0.0   \n",
       "max          9999.000000  17700.000000           12.000000           0.0   \n",
       "\n",
       "         postalcode  \n",
       "count  50000.000000  \n",
       "mean   50813.627300  \n",
       "std    25779.747957  \n",
       "min     1067.000000  \n",
       "25%    30451.000000  \n",
       "50%    49577.000000  \n",
       "75%    71540.000000  \n",
       "max    99998.000000  "
      ]
     },
     "execution_count": 8,
     "metadata": {},
     "output_type": "execute_result"
    }
   ],
   "source": [
    "autos.describe()"
   ]
  },
  {
   "cell_type": "code",
   "execution_count": 9,
   "metadata": {},
   "outputs": [
    {
     "data": {
      "text/html": [
       "<div>\n",
       "<style scoped>\n",
       "    .dataframe tbody tr th:only-of-type {\n",
       "        vertical-align: middle;\n",
       "    }\n",
       "\n",
       "    .dataframe tbody tr th {\n",
       "        vertical-align: top;\n",
       "    }\n",
       "\n",
       "    .dataframe thead th {\n",
       "        text-align: right;\n",
       "    }\n",
       "</style>\n",
       "<table border=\"1\" class=\"dataframe\">\n",
       "  <thead>\n",
       "    <tr style=\"text-align: right;\">\n",
       "      <th></th>\n",
       "      <th>datecrawled</th>\n",
       "      <th>name</th>\n",
       "      <th>seller</th>\n",
       "      <th>offertype</th>\n",
       "      <th>price</th>\n",
       "      <th>abtest</th>\n",
       "      <th>vehicletype</th>\n",
       "      <th>registration_year</th>\n",
       "      <th>gearbox</th>\n",
       "      <th>powerps</th>\n",
       "      <th>model</th>\n",
       "      <th>odometer</th>\n",
       "      <th>registration_month</th>\n",
       "      <th>fueltype</th>\n",
       "      <th>brand</th>\n",
       "      <th>unrepaired_damage</th>\n",
       "      <th>ad_created</th>\n",
       "      <th>nrofpictures</th>\n",
       "      <th>postalcode</th>\n",
       "      <th>lastseen</th>\n",
       "    </tr>\n",
       "  </thead>\n",
       "  <tbody>\n",
       "    <tr>\n",
       "      <td>count</td>\n",
       "      <td>50000</td>\n",
       "      <td>50000</td>\n",
       "      <td>50000</td>\n",
       "      <td>50000</td>\n",
       "      <td>50000</td>\n",
       "      <td>50000</td>\n",
       "      <td>44905</td>\n",
       "      <td>50000.000000</td>\n",
       "      <td>47320</td>\n",
       "      <td>50000.000000</td>\n",
       "      <td>47242</td>\n",
       "      <td>50000</td>\n",
       "      <td>50000.000000</td>\n",
       "      <td>45518</td>\n",
       "      <td>50000</td>\n",
       "      <td>40171</td>\n",
       "      <td>50000</td>\n",
       "      <td>50000.0</td>\n",
       "      <td>50000.000000</td>\n",
       "      <td>50000</td>\n",
       "    </tr>\n",
       "    <tr>\n",
       "      <td>unique</td>\n",
       "      <td>48213</td>\n",
       "      <td>38754</td>\n",
       "      <td>2</td>\n",
       "      <td>2</td>\n",
       "      <td>2357</td>\n",
       "      <td>2</td>\n",
       "      <td>8</td>\n",
       "      <td>NaN</td>\n",
       "      <td>2</td>\n",
       "      <td>NaN</td>\n",
       "      <td>245</td>\n",
       "      <td>13</td>\n",
       "      <td>NaN</td>\n",
       "      <td>7</td>\n",
       "      <td>40</td>\n",
       "      <td>2</td>\n",
       "      <td>76</td>\n",
       "      <td>NaN</td>\n",
       "      <td>NaN</td>\n",
       "      <td>39481</td>\n",
       "    </tr>\n",
       "    <tr>\n",
       "      <td>top</td>\n",
       "      <td>2016-03-08 10:40:35</td>\n",
       "      <td>Ford_Fiesta</td>\n",
       "      <td>privat</td>\n",
       "      <td>Angebot</td>\n",
       "      <td>$0</td>\n",
       "      <td>test</td>\n",
       "      <td>limousine</td>\n",
       "      <td>NaN</td>\n",
       "      <td>manuell</td>\n",
       "      <td>NaN</td>\n",
       "      <td>golf</td>\n",
       "      <td>150,000km</td>\n",
       "      <td>NaN</td>\n",
       "      <td>benzin</td>\n",
       "      <td>volkswagen</td>\n",
       "      <td>nein</td>\n",
       "      <td>2016-04-03 00:00:00</td>\n",
       "      <td>NaN</td>\n",
       "      <td>NaN</td>\n",
       "      <td>2016-04-07 06:17:27</td>\n",
       "    </tr>\n",
       "    <tr>\n",
       "      <td>freq</td>\n",
       "      <td>3</td>\n",
       "      <td>78</td>\n",
       "      <td>49999</td>\n",
       "      <td>49999</td>\n",
       "      <td>1421</td>\n",
       "      <td>25756</td>\n",
       "      <td>12859</td>\n",
       "      <td>NaN</td>\n",
       "      <td>36993</td>\n",
       "      <td>NaN</td>\n",
       "      <td>4024</td>\n",
       "      <td>32424</td>\n",
       "      <td>NaN</td>\n",
       "      <td>30107</td>\n",
       "      <td>10687</td>\n",
       "      <td>35232</td>\n",
       "      <td>1946</td>\n",
       "      <td>NaN</td>\n",
       "      <td>NaN</td>\n",
       "      <td>8</td>\n",
       "    </tr>\n",
       "    <tr>\n",
       "      <td>mean</td>\n",
       "      <td>NaN</td>\n",
       "      <td>NaN</td>\n",
       "      <td>NaN</td>\n",
       "      <td>NaN</td>\n",
       "      <td>NaN</td>\n",
       "      <td>NaN</td>\n",
       "      <td>NaN</td>\n",
       "      <td>2005.073280</td>\n",
       "      <td>NaN</td>\n",
       "      <td>116.355920</td>\n",
       "      <td>NaN</td>\n",
       "      <td>NaN</td>\n",
       "      <td>5.723360</td>\n",
       "      <td>NaN</td>\n",
       "      <td>NaN</td>\n",
       "      <td>NaN</td>\n",
       "      <td>NaN</td>\n",
       "      <td>0.0</td>\n",
       "      <td>50813.627300</td>\n",
       "      <td>NaN</td>\n",
       "    </tr>\n",
       "    <tr>\n",
       "      <td>std</td>\n",
       "      <td>NaN</td>\n",
       "      <td>NaN</td>\n",
       "      <td>NaN</td>\n",
       "      <td>NaN</td>\n",
       "      <td>NaN</td>\n",
       "      <td>NaN</td>\n",
       "      <td>NaN</td>\n",
       "      <td>105.712813</td>\n",
       "      <td>NaN</td>\n",
       "      <td>209.216627</td>\n",
       "      <td>NaN</td>\n",
       "      <td>NaN</td>\n",
       "      <td>3.711984</td>\n",
       "      <td>NaN</td>\n",
       "      <td>NaN</td>\n",
       "      <td>NaN</td>\n",
       "      <td>NaN</td>\n",
       "      <td>0.0</td>\n",
       "      <td>25779.747957</td>\n",
       "      <td>NaN</td>\n",
       "    </tr>\n",
       "    <tr>\n",
       "      <td>min</td>\n",
       "      <td>NaN</td>\n",
       "      <td>NaN</td>\n",
       "      <td>NaN</td>\n",
       "      <td>NaN</td>\n",
       "      <td>NaN</td>\n",
       "      <td>NaN</td>\n",
       "      <td>NaN</td>\n",
       "      <td>1000.000000</td>\n",
       "      <td>NaN</td>\n",
       "      <td>0.000000</td>\n",
       "      <td>NaN</td>\n",
       "      <td>NaN</td>\n",
       "      <td>0.000000</td>\n",
       "      <td>NaN</td>\n",
       "      <td>NaN</td>\n",
       "      <td>NaN</td>\n",
       "      <td>NaN</td>\n",
       "      <td>0.0</td>\n",
       "      <td>1067.000000</td>\n",
       "      <td>NaN</td>\n",
       "    </tr>\n",
       "    <tr>\n",
       "      <td>25%</td>\n",
       "      <td>NaN</td>\n",
       "      <td>NaN</td>\n",
       "      <td>NaN</td>\n",
       "      <td>NaN</td>\n",
       "      <td>NaN</td>\n",
       "      <td>NaN</td>\n",
       "      <td>NaN</td>\n",
       "      <td>1999.000000</td>\n",
       "      <td>NaN</td>\n",
       "      <td>70.000000</td>\n",
       "      <td>NaN</td>\n",
       "      <td>NaN</td>\n",
       "      <td>3.000000</td>\n",
       "      <td>NaN</td>\n",
       "      <td>NaN</td>\n",
       "      <td>NaN</td>\n",
       "      <td>NaN</td>\n",
       "      <td>0.0</td>\n",
       "      <td>30451.000000</td>\n",
       "      <td>NaN</td>\n",
       "    </tr>\n",
       "    <tr>\n",
       "      <td>50%</td>\n",
       "      <td>NaN</td>\n",
       "      <td>NaN</td>\n",
       "      <td>NaN</td>\n",
       "      <td>NaN</td>\n",
       "      <td>NaN</td>\n",
       "      <td>NaN</td>\n",
       "      <td>NaN</td>\n",
       "      <td>2003.000000</td>\n",
       "      <td>NaN</td>\n",
       "      <td>105.000000</td>\n",
       "      <td>NaN</td>\n",
       "      <td>NaN</td>\n",
       "      <td>6.000000</td>\n",
       "      <td>NaN</td>\n",
       "      <td>NaN</td>\n",
       "      <td>NaN</td>\n",
       "      <td>NaN</td>\n",
       "      <td>0.0</td>\n",
       "      <td>49577.000000</td>\n",
       "      <td>NaN</td>\n",
       "    </tr>\n",
       "    <tr>\n",
       "      <td>75%</td>\n",
       "      <td>NaN</td>\n",
       "      <td>NaN</td>\n",
       "      <td>NaN</td>\n",
       "      <td>NaN</td>\n",
       "      <td>NaN</td>\n",
       "      <td>NaN</td>\n",
       "      <td>NaN</td>\n",
       "      <td>2008.000000</td>\n",
       "      <td>NaN</td>\n",
       "      <td>150.000000</td>\n",
       "      <td>NaN</td>\n",
       "      <td>NaN</td>\n",
       "      <td>9.000000</td>\n",
       "      <td>NaN</td>\n",
       "      <td>NaN</td>\n",
       "      <td>NaN</td>\n",
       "      <td>NaN</td>\n",
       "      <td>0.0</td>\n",
       "      <td>71540.000000</td>\n",
       "      <td>NaN</td>\n",
       "    </tr>\n",
       "    <tr>\n",
       "      <td>max</td>\n",
       "      <td>NaN</td>\n",
       "      <td>NaN</td>\n",
       "      <td>NaN</td>\n",
       "      <td>NaN</td>\n",
       "      <td>NaN</td>\n",
       "      <td>NaN</td>\n",
       "      <td>NaN</td>\n",
       "      <td>9999.000000</td>\n",
       "      <td>NaN</td>\n",
       "      <td>17700.000000</td>\n",
       "      <td>NaN</td>\n",
       "      <td>NaN</td>\n",
       "      <td>12.000000</td>\n",
       "      <td>NaN</td>\n",
       "      <td>NaN</td>\n",
       "      <td>NaN</td>\n",
       "      <td>NaN</td>\n",
       "      <td>0.0</td>\n",
       "      <td>99998.000000</td>\n",
       "      <td>NaN</td>\n",
       "    </tr>\n",
       "  </tbody>\n",
       "</table>\n",
       "</div>"
      ],
      "text/plain": [
       "                datecrawled         name  seller offertype  price abtest  \\\n",
       "count                 50000        50000   50000     50000  50000  50000   \n",
       "unique                48213        38754       2         2   2357      2   \n",
       "top     2016-03-08 10:40:35  Ford_Fiesta  privat   Angebot     $0   test   \n",
       "freq                      3           78   49999     49999   1421  25756   \n",
       "mean                    NaN          NaN     NaN       NaN    NaN    NaN   \n",
       "std                     NaN          NaN     NaN       NaN    NaN    NaN   \n",
       "min                     NaN          NaN     NaN       NaN    NaN    NaN   \n",
       "25%                     NaN          NaN     NaN       NaN    NaN    NaN   \n",
       "50%                     NaN          NaN     NaN       NaN    NaN    NaN   \n",
       "75%                     NaN          NaN     NaN       NaN    NaN    NaN   \n",
       "max                     NaN          NaN     NaN       NaN    NaN    NaN   \n",
       "\n",
       "       vehicletype  registration_year  gearbox       powerps  model  \\\n",
       "count        44905       50000.000000    47320  50000.000000  47242   \n",
       "unique           8                NaN        2           NaN    245   \n",
       "top      limousine                NaN  manuell           NaN   golf   \n",
       "freq         12859                NaN    36993           NaN   4024   \n",
       "mean           NaN        2005.073280      NaN    116.355920    NaN   \n",
       "std            NaN         105.712813      NaN    209.216627    NaN   \n",
       "min            NaN        1000.000000      NaN      0.000000    NaN   \n",
       "25%            NaN        1999.000000      NaN     70.000000    NaN   \n",
       "50%            NaN        2003.000000      NaN    105.000000    NaN   \n",
       "75%            NaN        2008.000000      NaN    150.000000    NaN   \n",
       "max            NaN        9999.000000      NaN  17700.000000    NaN   \n",
       "\n",
       "         odometer  registration_month fueltype       brand unrepaired_damage  \\\n",
       "count       50000        50000.000000    45518       50000             40171   \n",
       "unique         13                 NaN        7          40                 2   \n",
       "top     150,000km                 NaN   benzin  volkswagen              nein   \n",
       "freq        32424                 NaN    30107       10687             35232   \n",
       "mean          NaN            5.723360      NaN         NaN               NaN   \n",
       "std           NaN            3.711984      NaN         NaN               NaN   \n",
       "min           NaN            0.000000      NaN         NaN               NaN   \n",
       "25%           NaN            3.000000      NaN         NaN               NaN   \n",
       "50%           NaN            6.000000      NaN         NaN               NaN   \n",
       "75%           NaN            9.000000      NaN         NaN               NaN   \n",
       "max           NaN           12.000000      NaN         NaN               NaN   \n",
       "\n",
       "                 ad_created  nrofpictures    postalcode             lastseen  \n",
       "count                 50000       50000.0  50000.000000                50000  \n",
       "unique                   76           NaN           NaN                39481  \n",
       "top     2016-04-03 00:00:00           NaN           NaN  2016-04-07 06:17:27  \n",
       "freq                   1946           NaN           NaN                    8  \n",
       "mean                    NaN           0.0  50813.627300                  NaN  \n",
       "std                     NaN           0.0  25779.747957                  NaN  \n",
       "min                     NaN           0.0   1067.000000                  NaN  \n",
       "25%                     NaN           0.0  30451.000000                  NaN  \n",
       "50%                     NaN           0.0  49577.000000                  NaN  \n",
       "75%                     NaN           0.0  71540.000000                  NaN  \n",
       "max                     NaN           0.0  99998.000000                  NaN  "
      ]
     },
     "execution_count": 9,
     "metadata": {},
     "output_type": "execute_result"
    }
   ],
   "source": [
    "autos.describe(include = 'all')"
   ]
  },
  {
   "cell_type": "markdown",
   "metadata": {},
   "source": [
    "## Notes\n",
    "1. Price column contains string objects.\n",
    "2. Odometer column contains string objects."
   ]
  },
  {
   "cell_type": "code",
   "execution_count": 10,
   "metadata": {},
   "outputs": [
    {
     "data": {
      "text/plain": [
       "$0         1421\n",
       "$500        781\n",
       "$1,500      734\n",
       "$2,500      643\n",
       "$1,200      639\n",
       "           ... \n",
       "$2,134        1\n",
       "$3,260        1\n",
       "$3,318        1\n",
       "$887          1\n",
       "$15,249       1\n",
       "Name: price, Length: 2357, dtype: int64"
      ]
     },
     "execution_count": 10,
     "metadata": {},
     "output_type": "execute_result"
    }
   ],
   "source": [
    "autos[\"price\"].value_counts()"
   ]
  },
  {
   "cell_type": "code",
   "execution_count": 11,
   "metadata": {},
   "outputs": [],
   "source": [
    "autos[\"price\"] = autos[\"price\"].str.replace(\",\", \"\")\n",
    "autos[\"price\"] = autos[\"price\"].str.replace(\"$\", \"\")\n",
    "autos[\"price\"] = autos[\"price\"].astype(int)\n",
    "autos.rename({\"price\": \"price_usd\"}, inplace = True, axis = 1)"
   ]
  },
  {
   "cell_type": "code",
   "execution_count": 12,
   "metadata": {},
   "outputs": [
    {
     "data": {
      "text/plain": [
       "150,000km    32424\n",
       "125,000km     5170\n",
       "100,000km     2169\n",
       "90,000km      1757\n",
       "80,000km      1436\n",
       "70,000km      1230\n",
       "60,000km      1164\n",
       "50,000km      1027\n",
       "5,000km        967\n",
       "40,000km       819\n",
       "30,000km       789\n",
       "20,000km       784\n",
       "10,000km       264\n",
       "Name: odometer, dtype: int64"
      ]
     },
     "execution_count": 12,
     "metadata": {},
     "output_type": "execute_result"
    }
   ],
   "source": [
    "autos[\"odometer\"].value_counts()"
   ]
  },
  {
   "cell_type": "code",
   "execution_count": 13,
   "metadata": {},
   "outputs": [],
   "source": [
    "autos[\"odometer\"] = autos[\"odometer\"].str.replace(\",\", \"\")\n",
    "autos[\"odometer\"] = autos[\"odometer\"].str.replace(\"km\", \"\")\n",
    "autos[\"odometer\"] = autos[\"odometer\"].astype(int)\n",
    "autos.rename({\"odometer\": \"odometer_km\"}, inplace = True, axis = 1)"
   ]
  },
  {
   "cell_type": "code",
   "execution_count": 14,
   "metadata": {},
   "outputs": [
    {
     "data": {
      "text/html": [
       "<div>\n",
       "<style scoped>\n",
       "    .dataframe tbody tr th:only-of-type {\n",
       "        vertical-align: middle;\n",
       "    }\n",
       "\n",
       "    .dataframe tbody tr th {\n",
       "        vertical-align: top;\n",
       "    }\n",
       "\n",
       "    .dataframe thead th {\n",
       "        text-align: right;\n",
       "    }\n",
       "</style>\n",
       "<table border=\"1\" class=\"dataframe\">\n",
       "  <thead>\n",
       "    <tr style=\"text-align: right;\">\n",
       "      <th></th>\n",
       "      <th>datecrawled</th>\n",
       "      <th>name</th>\n",
       "      <th>seller</th>\n",
       "      <th>offertype</th>\n",
       "      <th>price_usd</th>\n",
       "      <th>abtest</th>\n",
       "      <th>vehicletype</th>\n",
       "      <th>registration_year</th>\n",
       "      <th>gearbox</th>\n",
       "      <th>powerps</th>\n",
       "      <th>model</th>\n",
       "      <th>odometer_km</th>\n",
       "      <th>registration_month</th>\n",
       "      <th>fueltype</th>\n",
       "      <th>brand</th>\n",
       "      <th>unrepaired_damage</th>\n",
       "      <th>ad_created</th>\n",
       "      <th>nrofpictures</th>\n",
       "      <th>postalcode</th>\n",
       "      <th>lastseen</th>\n",
       "    </tr>\n",
       "  </thead>\n",
       "  <tbody>\n",
       "    <tr>\n",
       "      <td>0</td>\n",
       "      <td>2016-03-26 17:47:46</td>\n",
       "      <td>Peugeot_807_160_NAVTECH_ON_BOARD</td>\n",
       "      <td>privat</td>\n",
       "      <td>Angebot</td>\n",
       "      <td>5000</td>\n",
       "      <td>control</td>\n",
       "      <td>bus</td>\n",
       "      <td>2004</td>\n",
       "      <td>manuell</td>\n",
       "      <td>158</td>\n",
       "      <td>andere</td>\n",
       "      <td>150000</td>\n",
       "      <td>3</td>\n",
       "      <td>lpg</td>\n",
       "      <td>peugeot</td>\n",
       "      <td>nein</td>\n",
       "      <td>2016-03-26 00:00:00</td>\n",
       "      <td>0</td>\n",
       "      <td>79588</td>\n",
       "      <td>2016-04-06 06:45:54</td>\n",
       "    </tr>\n",
       "    <tr>\n",
       "      <td>1</td>\n",
       "      <td>2016-04-04 13:38:56</td>\n",
       "      <td>BMW_740i_4_4_Liter_HAMANN_UMBAU_Mega_Optik</td>\n",
       "      <td>privat</td>\n",
       "      <td>Angebot</td>\n",
       "      <td>8500</td>\n",
       "      <td>control</td>\n",
       "      <td>limousine</td>\n",
       "      <td>1997</td>\n",
       "      <td>automatik</td>\n",
       "      <td>286</td>\n",
       "      <td>7er</td>\n",
       "      <td>150000</td>\n",
       "      <td>6</td>\n",
       "      <td>benzin</td>\n",
       "      <td>bmw</td>\n",
       "      <td>nein</td>\n",
       "      <td>2016-04-04 00:00:00</td>\n",
       "      <td>0</td>\n",
       "      <td>71034</td>\n",
       "      <td>2016-04-06 14:45:08</td>\n",
       "    </tr>\n",
       "  </tbody>\n",
       "</table>\n",
       "</div>"
      ],
      "text/plain": [
       "           datecrawled                                        name  seller  \\\n",
       "0  2016-03-26 17:47:46            Peugeot_807_160_NAVTECH_ON_BOARD  privat   \n",
       "1  2016-04-04 13:38:56  BMW_740i_4_4_Liter_HAMANN_UMBAU_Mega_Optik  privat   \n",
       "\n",
       "  offertype  price_usd   abtest vehicletype  registration_year    gearbox  \\\n",
       "0   Angebot       5000  control         bus               2004    manuell   \n",
       "1   Angebot       8500  control   limousine               1997  automatik   \n",
       "\n",
       "   powerps   model  odometer_km  registration_month fueltype    brand  \\\n",
       "0      158  andere       150000                   3      lpg  peugeot   \n",
       "1      286     7er       150000                   6   benzin      bmw   \n",
       "\n",
       "  unrepaired_damage           ad_created  nrofpictures  postalcode  \\\n",
       "0              nein  2016-03-26 00:00:00             0       79588   \n",
       "1              nein  2016-04-04 00:00:00             0       71034   \n",
       "\n",
       "              lastseen  \n",
       "0  2016-04-06 06:45:54  \n",
       "1  2016-04-06 14:45:08  "
      ]
     },
     "execution_count": 14,
     "metadata": {},
     "output_type": "execute_result"
    }
   ],
   "source": [
    "autos.head(2)"
   ]
  },
  {
   "cell_type": "code",
   "execution_count": 15,
   "metadata": {},
   "outputs": [
    {
     "data": {
      "text/plain": [
       "(2357,)"
      ]
     },
     "execution_count": 15,
     "metadata": {},
     "output_type": "execute_result"
    }
   ],
   "source": [
    "autos[\"price_usd\"].unique().shape"
   ]
  },
  {
   "cell_type": "code",
   "execution_count": 16,
   "metadata": {},
   "outputs": [
    {
     "data": {
      "text/plain": [
       "count    5.000000e+04\n",
       "mean     9.840044e+03\n",
       "std      4.811044e+05\n",
       "min      0.000000e+00\n",
       "25%      1.100000e+03\n",
       "50%      2.950000e+03\n",
       "75%      7.200000e+03\n",
       "max      1.000000e+08\n",
       "Name: price_usd, dtype: float64"
      ]
     },
     "execution_count": 16,
     "metadata": {},
     "output_type": "execute_result"
    }
   ],
   "source": [
    "autos[\"price_usd\"].describe()"
   ]
  },
  {
   "cell_type": "code",
   "execution_count": 17,
   "metadata": {},
   "outputs": [],
   "source": [
    "high_priced = autos.loc[autos[\"price_usd\"].between(200000,100000000)]"
   ]
  },
  {
   "cell_type": "code",
   "execution_count": 18,
   "metadata": {},
   "outputs": [],
   "source": [
    "low_priced = autos.loc[autos[\"price_usd\"].between(0, 1)]"
   ]
  },
  {
   "cell_type": "code",
   "execution_count": 19,
   "metadata": {},
   "outputs": [
    {
     "data": {
      "text/plain": [
       "1500      1\n",
       "1910      5\n",
       "1950      1\n",
       "1956      1\n",
       "1959      1\n",
       "1960     11\n",
       "1963      1\n",
       "1967      1\n",
       "1970      8\n",
       "1971      1\n",
       "1972      2\n",
       "1973      2\n",
       "1975      1\n",
       "1976      6\n",
       "1978      5\n",
       "1979      1\n",
       "1980     15\n",
       "1981      2\n",
       "1982      2\n",
       "1983      2\n",
       "1984      2\n",
       "1985     10\n",
       "1986      5\n",
       "1987      3\n",
       "1988      8\n",
       "1989     10\n",
       "1990     53\n",
       "1991     17\n",
       "1992     22\n",
       "1993     21\n",
       "1994     31\n",
       "1995     99\n",
       "1996     80\n",
       "1997     86\n",
       "1998    101\n",
       "1999    112\n",
       "2000    226\n",
       "2001     70\n",
       "2002     53\n",
       "2003     30\n",
       "2004     37\n",
       "2005     88\n",
       "2006     37\n",
       "2007     30\n",
       "2008     18\n",
       "2009     14\n",
       "2010      8\n",
       "2011     11\n",
       "2012     13\n",
       "2013      4\n",
       "2014      3\n",
       "2015      8\n",
       "2016    107\n",
       "2017     66\n",
       "2018     21\n",
       "2019      1\n",
       "9000      1\n",
       "9996      1\n",
       "9999      1\n",
       "Name: registration_year, dtype: int64"
      ]
     },
     "execution_count": 19,
     "metadata": {},
     "output_type": "execute_result"
    }
   ],
   "source": [
    "low_priced[\"registration_year\"].value_counts().sort_index()"
   ]
  },
  {
   "cell_type": "markdown",
   "metadata": {},
   "source": [
    "## Questionable used car listings priced at 0 or 1 USD\n",
    "1. 2015, 2016, 2017, 2018, and 2019 model cars selling for 0 or 1 USD?\n",
    "2. Odd model year entries including 1500, 1910, 9000, 9996, 9999?\n",
    "\n",
    "I will be removing these 212 car listings.\n",
    "\n",
    "## Skewed results from used car listings priced greater 200,000 USD\n",
    "\n",
    "I will also be removing 22 car listings for prices greater than 200,000 USD."
   ]
  },
  {
   "cell_type": "code",
   "execution_count": 20,
   "metadata": {},
   "outputs": [],
   "source": [
    "new_years = [2015, 2016, 2017, 2018, 2019]\n",
    "odd_years = [1500, 1910, 9000, 9996, 9999]"
   ]
  },
  {
   "cell_type": "code",
   "execution_count": 21,
   "metadata": {},
   "outputs": [
    {
     "data": {
      "text/plain": [
       "203"
      ]
     },
     "execution_count": 21,
     "metadata": {},
     "output_type": "execute_result"
    }
   ],
   "source": [
    "new_years_low_priced = low_priced.loc[low_priced[\"registration_year\"].isin(new_years)]\n",
    "len(new_years_low_priced)"
   ]
  },
  {
   "cell_type": "code",
   "execution_count": 22,
   "metadata": {},
   "outputs": [
    {
     "data": {
      "text/plain": [
       "9"
      ]
     },
     "execution_count": 22,
     "metadata": {},
     "output_type": "execute_result"
    }
   ],
   "source": [
    "odd_years_low_priced = low_priced.loc[low_priced[\"registration_year\"].isin(odd_years)]\n",
    "len(odd_years_low_priced)"
   ]
  },
  {
   "cell_type": "code",
   "execution_count": 23,
   "metadata": {},
   "outputs": [
    {
     "data": {
      "text/plain": [
       "22"
      ]
     },
     "execution_count": 23,
     "metadata": {},
     "output_type": "execute_result"
    }
   ],
   "source": [
    "len(high_priced)"
   ]
  },
  {
   "cell_type": "code",
   "execution_count": 24,
   "metadata": {},
   "outputs": [],
   "source": [
    "autos2 = autos.drop(new_years_low_priced.index, axis = 0)\n",
    "autos2 = autos2.drop(odd_years_low_priced.index, axis = 0)\n",
    "autos2 = autos2.drop(high_priced.index, axis = 0)"
   ]
  },
  {
   "cell_type": "code",
   "execution_count": 25,
   "metadata": {},
   "outputs": [
    {
     "data": {
      "text/html": [
       "<div>\n",
       "<style scoped>\n",
       "    .dataframe tbody tr th:only-of-type {\n",
       "        vertical-align: middle;\n",
       "    }\n",
       "\n",
       "    .dataframe tbody tr th {\n",
       "        vertical-align: top;\n",
       "    }\n",
       "\n",
       "    .dataframe thead th {\n",
       "        text-align: right;\n",
       "    }\n",
       "</style>\n",
       "<table border=\"1\" class=\"dataframe\">\n",
       "  <thead>\n",
       "    <tr style=\"text-align: right;\">\n",
       "      <th></th>\n",
       "      <th>price_usd</th>\n",
       "      <th>registration_year</th>\n",
       "      <th>powerps</th>\n",
       "      <th>odometer_km</th>\n",
       "      <th>registration_month</th>\n",
       "      <th>nrofpictures</th>\n",
       "      <th>postalcode</th>\n",
       "    </tr>\n",
       "  </thead>\n",
       "  <tbody>\n",
       "    <tr>\n",
       "      <td>count</td>\n",
       "      <td>49766.000000</td>\n",
       "      <td>49766.000000</td>\n",
       "      <td>49766.000000</td>\n",
       "      <td>49766.000000</td>\n",
       "      <td>49766.000000</td>\n",
       "      <td>49766.0</td>\n",
       "      <td>49766.000000</td>\n",
       "    </tr>\n",
       "    <tr>\n",
       "      <td>mean</td>\n",
       "      <td>5700.943174</td>\n",
       "      <td>2004.586646</td>\n",
       "      <td>116.197685</td>\n",
       "      <td>125770.405498</td>\n",
       "      <td>5.732970</td>\n",
       "      <td>0.0</td>\n",
       "      <td>50839.805992</td>\n",
       "    </tr>\n",
       "    <tr>\n",
       "      <td>std</td>\n",
       "      <td>8249.602115</td>\n",
       "      <td>87.580784</td>\n",
       "      <td>198.640849</td>\n",
       "      <td>39954.790249</td>\n",
       "      <td>3.707275</td>\n",
       "      <td>0.0</td>\n",
       "      <td>25776.590221</td>\n",
       "    </tr>\n",
       "    <tr>\n",
       "      <td>min</td>\n",
       "      <td>0.000000</td>\n",
       "      <td>1000.000000</td>\n",
       "      <td>0.000000</td>\n",
       "      <td>5000.000000</td>\n",
       "      <td>0.000000</td>\n",
       "      <td>0.0</td>\n",
       "      <td>1067.000000</td>\n",
       "    </tr>\n",
       "    <tr>\n",
       "      <td>25%</td>\n",
       "      <td>1150.000000</td>\n",
       "      <td>1999.000000</td>\n",
       "      <td>70.000000</td>\n",
       "      <td>125000.000000</td>\n",
       "      <td>3.000000</td>\n",
       "      <td>0.0</td>\n",
       "      <td>30455.000000</td>\n",
       "    </tr>\n",
       "    <tr>\n",
       "      <td>50%</td>\n",
       "      <td>2950.000000</td>\n",
       "      <td>2003.000000</td>\n",
       "      <td>105.000000</td>\n",
       "      <td>150000.000000</td>\n",
       "      <td>6.000000</td>\n",
       "      <td>0.0</td>\n",
       "      <td>49586.000000</td>\n",
       "    </tr>\n",
       "    <tr>\n",
       "      <td>75%</td>\n",
       "      <td>7250.000000</td>\n",
       "      <td>2008.000000</td>\n",
       "      <td>150.000000</td>\n",
       "      <td>150000.000000</td>\n",
       "      <td>9.000000</td>\n",
       "      <td>0.0</td>\n",
       "      <td>71560.000000</td>\n",
       "    </tr>\n",
       "    <tr>\n",
       "      <td>max</td>\n",
       "      <td>198000.000000</td>\n",
       "      <td>9999.000000</td>\n",
       "      <td>17700.000000</td>\n",
       "      <td>150000.000000</td>\n",
       "      <td>12.000000</td>\n",
       "      <td>0.0</td>\n",
       "      <td>99998.000000</td>\n",
       "    </tr>\n",
       "  </tbody>\n",
       "</table>\n",
       "</div>"
      ],
      "text/plain": [
       "           price_usd  registration_year       powerps    odometer_km  \\\n",
       "count   49766.000000       49766.000000  49766.000000   49766.000000   \n",
       "mean     5700.943174        2004.586646    116.197685  125770.405498   \n",
       "std      8249.602115          87.580784    198.640849   39954.790249   \n",
       "min         0.000000        1000.000000      0.000000    5000.000000   \n",
       "25%      1150.000000        1999.000000     70.000000  125000.000000   \n",
       "50%      2950.000000        2003.000000    105.000000  150000.000000   \n",
       "75%      7250.000000        2008.000000    150.000000  150000.000000   \n",
       "max    198000.000000        9999.000000  17700.000000  150000.000000   \n",
       "\n",
       "       registration_month  nrofpictures    postalcode  \n",
       "count        49766.000000       49766.0  49766.000000  \n",
       "mean             5.732970           0.0  50839.805992  \n",
       "std              3.707275           0.0  25776.590221  \n",
       "min              0.000000           0.0   1067.000000  \n",
       "25%              3.000000           0.0  30455.000000  \n",
       "50%              6.000000           0.0  49586.000000  \n",
       "75%              9.000000           0.0  71560.000000  \n",
       "max             12.000000           0.0  99998.000000  "
      ]
     },
     "execution_count": 25,
     "metadata": {},
     "output_type": "execute_result"
    }
   ],
   "source": [
    "autos2.describe()"
   ]
  },
  {
   "cell_type": "code",
   "execution_count": 26,
   "metadata": {},
   "outputs": [
    {
     "data": {
      "text/html": [
       "<div>\n",
       "<style scoped>\n",
       "    .dataframe tbody tr th:only-of-type {\n",
       "        vertical-align: middle;\n",
       "    }\n",
       "\n",
       "    .dataframe tbody tr th {\n",
       "        vertical-align: top;\n",
       "    }\n",
       "\n",
       "    .dataframe thead th {\n",
       "        text-align: right;\n",
       "    }\n",
       "</style>\n",
       "<table border=\"1\" class=\"dataframe\">\n",
       "  <thead>\n",
       "    <tr style=\"text-align: right;\">\n",
       "      <th></th>\n",
       "      <th>price_usd</th>\n",
       "      <th>registration_year</th>\n",
       "      <th>powerps</th>\n",
       "      <th>odometer_km</th>\n",
       "      <th>registration_month</th>\n",
       "      <th>nrofpictures</th>\n",
       "      <th>postalcode</th>\n",
       "    </tr>\n",
       "  </thead>\n",
       "  <tbody>\n",
       "    <tr>\n",
       "      <td>count</td>\n",
       "      <td>5.000000e+04</td>\n",
       "      <td>50000.000000</td>\n",
       "      <td>50000.000000</td>\n",
       "      <td>50000.000000</td>\n",
       "      <td>50000.000000</td>\n",
       "      <td>50000.0</td>\n",
       "      <td>50000.000000</td>\n",
       "    </tr>\n",
       "    <tr>\n",
       "      <td>mean</td>\n",
       "      <td>9.840044e+03</td>\n",
       "      <td>2005.073280</td>\n",
       "      <td>116.355920</td>\n",
       "      <td>125732.700000</td>\n",
       "      <td>5.723360</td>\n",
       "      <td>0.0</td>\n",
       "      <td>50813.627300</td>\n",
       "    </tr>\n",
       "    <tr>\n",
       "      <td>std</td>\n",
       "      <td>4.811044e+05</td>\n",
       "      <td>105.712813</td>\n",
       "      <td>209.216627</td>\n",
       "      <td>40042.211706</td>\n",
       "      <td>3.711984</td>\n",
       "      <td>0.0</td>\n",
       "      <td>25779.747957</td>\n",
       "    </tr>\n",
       "    <tr>\n",
       "      <td>min</td>\n",
       "      <td>0.000000e+00</td>\n",
       "      <td>1000.000000</td>\n",
       "      <td>0.000000</td>\n",
       "      <td>5000.000000</td>\n",
       "      <td>0.000000</td>\n",
       "      <td>0.0</td>\n",
       "      <td>1067.000000</td>\n",
       "    </tr>\n",
       "    <tr>\n",
       "      <td>25%</td>\n",
       "      <td>1.100000e+03</td>\n",
       "      <td>1999.000000</td>\n",
       "      <td>70.000000</td>\n",
       "      <td>125000.000000</td>\n",
       "      <td>3.000000</td>\n",
       "      <td>0.0</td>\n",
       "      <td>30451.000000</td>\n",
       "    </tr>\n",
       "    <tr>\n",
       "      <td>50%</td>\n",
       "      <td>2.950000e+03</td>\n",
       "      <td>2003.000000</td>\n",
       "      <td>105.000000</td>\n",
       "      <td>150000.000000</td>\n",
       "      <td>6.000000</td>\n",
       "      <td>0.0</td>\n",
       "      <td>49577.000000</td>\n",
       "    </tr>\n",
       "    <tr>\n",
       "      <td>75%</td>\n",
       "      <td>7.200000e+03</td>\n",
       "      <td>2008.000000</td>\n",
       "      <td>150.000000</td>\n",
       "      <td>150000.000000</td>\n",
       "      <td>9.000000</td>\n",
       "      <td>0.0</td>\n",
       "      <td>71540.000000</td>\n",
       "    </tr>\n",
       "    <tr>\n",
       "      <td>max</td>\n",
       "      <td>1.000000e+08</td>\n",
       "      <td>9999.000000</td>\n",
       "      <td>17700.000000</td>\n",
       "      <td>150000.000000</td>\n",
       "      <td>12.000000</td>\n",
       "      <td>0.0</td>\n",
       "      <td>99998.000000</td>\n",
       "    </tr>\n",
       "  </tbody>\n",
       "</table>\n",
       "</div>"
      ],
      "text/plain": [
       "          price_usd  registration_year       powerps    odometer_km  \\\n",
       "count  5.000000e+04       50000.000000  50000.000000   50000.000000   \n",
       "mean   9.840044e+03        2005.073280    116.355920  125732.700000   \n",
       "std    4.811044e+05         105.712813    209.216627   40042.211706   \n",
       "min    0.000000e+00        1000.000000      0.000000    5000.000000   \n",
       "25%    1.100000e+03        1999.000000     70.000000  125000.000000   \n",
       "50%    2.950000e+03        2003.000000    105.000000  150000.000000   \n",
       "75%    7.200000e+03        2008.000000    150.000000  150000.000000   \n",
       "max    1.000000e+08        9999.000000  17700.000000  150000.000000   \n",
       "\n",
       "       registration_month  nrofpictures    postalcode  \n",
       "count        50000.000000       50000.0  50000.000000  \n",
       "mean             5.723360           0.0  50813.627300  \n",
       "std              3.711984           0.0  25779.747957  \n",
       "min              0.000000           0.0   1067.000000  \n",
       "25%              3.000000           0.0  30451.000000  \n",
       "50%              6.000000           0.0  49577.000000  \n",
       "75%              9.000000           0.0  71540.000000  \n",
       "max             12.000000           0.0  99998.000000  "
      ]
     },
     "execution_count": 26,
     "metadata": {},
     "output_type": "execute_result"
    }
   ],
   "source": [
    "autos.describe()"
   ]
  },
  {
   "cell_type": "code",
   "execution_count": 27,
   "metadata": {},
   "outputs": [
    {
     "data": {
      "text/plain": [
       "(13,)"
      ]
     },
     "execution_count": 27,
     "metadata": {},
     "output_type": "execute_result"
    }
   ],
   "source": [
    "autos2[\"odometer_km\"].unique().shape"
   ]
  },
  {
   "cell_type": "code",
   "execution_count": 28,
   "metadata": {},
   "outputs": [
    {
     "data": {
      "text/plain": [
       "count     49766.000000\n",
       "mean     125770.405498\n",
       "std       39954.790249\n",
       "min        5000.000000\n",
       "25%      125000.000000\n",
       "50%      150000.000000\n",
       "75%      150000.000000\n",
       "max      150000.000000\n",
       "Name: odometer_km, dtype: float64"
      ]
     },
     "execution_count": 28,
     "metadata": {},
     "output_type": "execute_result"
    }
   ],
   "source": [
    "autos2[\"odometer_km\"].describe()"
   ]
  },
  {
   "cell_type": "code",
   "execution_count": 29,
   "metadata": {},
   "outputs": [],
   "source": [
    "autos2[\"dc_date\"] = autos2[\"datecrawled\"].str[:10]\n",
    "autos2[\"ad_date\"] = autos2[\"ad_created\"].str[:10]\n",
    "autos2[\"seen_date\"] = autos2[\"lastseen\"].str[:10]"
   ]
  },
  {
   "cell_type": "code",
   "execution_count": 30,
   "metadata": {},
   "outputs": [
    {
     "data": {
      "text/plain": [
       "2016-03-05    0.025379\n",
       "2016-03-06    0.013945\n",
       "2016-03-07    0.035948\n",
       "2016-03-08    0.033316\n",
       "2016-03-09    0.033175\n",
       "2016-03-10    0.032211\n",
       "2016-03-11    0.032552\n",
       "2016-03-12    0.036772\n",
       "2016-03-13    0.015573\n",
       "2016-03-14    0.036551\n",
       "2016-03-15    0.033959\n",
       "2016-03-16    0.029398\n",
       "2016-03-17    0.031548\n",
       "2016-03-18    0.013021\n",
       "2016-03-19    0.034903\n",
       "2016-03-20    0.037777\n",
       "2016-03-21    0.037536\n",
       "2016-03-22    0.032934\n",
       "2016-03-23    0.032392\n",
       "2016-03-24    0.029197\n",
       "2016-03-25    0.031688\n",
       "2016-03-26    0.032432\n",
       "2016-03-27    0.031065\n",
       "2016-03-28    0.034843\n",
       "2016-03-29    0.034160\n",
       "2016-03-30    0.033678\n",
       "2016-03-31    0.031909\n",
       "2016-04-01    0.033778\n",
       "2016-04-02    0.035386\n",
       "2016-04-03    0.038761\n",
       "2016-04-04    0.036551\n",
       "2016-04-05    0.013041\n",
       "2016-04-06    0.003195\n",
       "2016-04-07    0.001427\n",
       "Name: dc_date, dtype: float64"
      ]
     },
     "execution_count": 30,
     "metadata": {},
     "output_type": "execute_result"
    }
   ],
   "source": [
    "autos2[\"dc_date\"].value_counts(normalize = True, dropna = False).sort_index()\n",
    "# When this ad was first crawled. All field-values are taken from this date."
   ]
  },
  {
   "cell_type": "code",
   "execution_count": 31,
   "metadata": {},
   "outputs": [
    {
     "data": {
      "text/plain": [
       "count          49766\n",
       "unique            34\n",
       "top       2016-04-03\n",
       "freq            1929\n",
       "Name: dc_date, dtype: object"
      ]
     },
     "execution_count": 31,
     "metadata": {},
     "output_type": "execute_result"
    }
   ],
   "source": [
    "autos2[\"dc_date\"].describe()"
   ]
  },
  {
   "cell_type": "code",
   "execution_count": 32,
   "metadata": {},
   "outputs": [
    {
     "data": {
      "text/plain": [
       "2015-06-11    0.000020\n",
       "2015-08-10    0.000020\n",
       "2015-09-09    0.000020\n",
       "2015-11-10    0.000020\n",
       "2015-12-05    0.000020\n",
       "                ...   \n",
       "2016-04-03    0.039003\n",
       "2016-04-04    0.036913\n",
       "2016-04-05    0.011775\n",
       "2016-04-06    0.003275\n",
       "2016-04-07    0.001286\n",
       "Name: ad_date, Length: 76, dtype: float64"
      ]
     },
     "execution_count": 32,
     "metadata": {},
     "output_type": "execute_result"
    }
   ],
   "source": [
    "autos2[\"ad_date\"].value_counts(normalize = True, dropna = False).sort_index()\n",
    "# The date on which the eBay listing was created."
   ]
  },
  {
   "cell_type": "code",
   "execution_count": 33,
   "metadata": {},
   "outputs": [
    {
     "data": {
      "text/plain": [
       "count          49766\n",
       "unique            76\n",
       "top       2016-04-03\n",
       "freq            1941\n",
       "Name: ad_date, dtype: object"
      ]
     },
     "execution_count": 33,
     "metadata": {},
     "output_type": "execute_result"
    }
   ],
   "source": [
    "autos2[\"ad_date\"].describe()"
   ]
  },
  {
   "cell_type": "code",
   "execution_count": 34,
   "metadata": {},
   "outputs": [
    {
     "data": {
      "text/plain": [
       "2016-03-05    0.001085\n",
       "2016-03-06    0.004401\n",
       "2016-03-07    0.005385\n",
       "2016-03-08    0.007475\n",
       "2016-03-09    0.009826\n",
       "2016-03-10    0.010770\n",
       "2016-03-11    0.012539\n",
       "2016-03-12    0.023791\n",
       "2016-03-13    0.009002\n",
       "2016-03-14    0.012780\n",
       "2016-03-15    0.015854\n",
       "2016-03-16    0.016336\n",
       "2016-03-17    0.027931\n",
       "2016-03-18    0.007415\n",
       "2016-03-19    0.015774\n",
       "2016-03-20    0.020657\n",
       "2016-03-21    0.020697\n",
       "2016-03-22    0.021541\n",
       "2016-03-23    0.018567\n",
       "2016-03-24    0.019592\n",
       "2016-03-25    0.019190\n",
       "2016-03-26    0.016939\n",
       "2016-03-27    0.015935\n",
       "2016-03-28    0.020898\n",
       "2016-03-29    0.022324\n",
       "2016-03-30    0.024856\n",
       "2016-03-31    0.023852\n",
       "2016-04-01    0.023068\n",
       "2016-04-02    0.024937\n",
       "2016-04-03    0.025399\n",
       "2016-04-04    0.024555\n",
       "2016-04-05    0.124342\n",
       "2016-04-06    0.221175\n",
       "2016-04-07    0.131114\n",
       "Name: seen_date, dtype: float64"
      ]
     },
     "execution_count": 34,
     "metadata": {},
     "output_type": "execute_result"
    }
   ],
   "source": [
    "autos2[\"seen_date\"].value_counts(normalize = True, dropna = False).sort_index()\n",
    "# When the crawler saw this ad last online."
   ]
  },
  {
   "cell_type": "code",
   "execution_count": 35,
   "metadata": {},
   "outputs": [
    {
     "data": {
      "text/plain": [
       "count          49766\n",
       "unique            34\n",
       "top       2016-04-06\n",
       "freq           11007\n",
       "Name: seen_date, dtype: object"
      ]
     },
     "execution_count": 35,
     "metadata": {},
     "output_type": "execute_result"
    }
   ],
   "source": [
    "autos2[\"seen_date\"].describe()"
   ]
  },
  {
   "cell_type": "markdown",
   "metadata": {},
   "source": [
    "## Calculating excessive days for used car listings to get crawled"
   ]
  },
  {
   "cell_type": "code",
   "execution_count": 36,
   "metadata": {},
   "outputs": [],
   "source": [
    "autos2[\"dc_date\"] = pd.to_datetime(autos2[\"dc_date\"])\n",
    "autos2[\"ad_date\"] = pd.to_datetime(autos2[\"ad_date\"])\n",
    "autos2[\"seen_date\"] = pd.to_datetime(autos2[\"seen_date\"])"
   ]
  },
  {
   "cell_type": "code",
   "execution_count": 37,
   "metadata": {},
   "outputs": [],
   "source": [
    "autos2[\"crawled\"] = autos2[\"dc_date\"] - autos2[\"ad_date\"]"
   ]
  },
  {
   "cell_type": "code",
   "execution_count": 38,
   "metadata": {},
   "outputs": [
    {
     "name": "stdout",
     "output_type": "stream",
     "text": [
      "<class 'pandas.core.frame.DataFrame'>\n",
      "Int64Index: 49766 entries, 0 to 49999\n",
      "Data columns (total 24 columns):\n",
      "datecrawled           49766 non-null object\n",
      "name                  49766 non-null object\n",
      "seller                49766 non-null object\n",
      "offertype             49766 non-null object\n",
      "price_usd             49766 non-null int64\n",
      "abtest                49766 non-null object\n",
      "vehicletype           44882 non-null object\n",
      "registration_year     49766 non-null int64\n",
      "gearbox               47142 non-null object\n",
      "powerps               49766 non-null int64\n",
      "model                 47067 non-null object\n",
      "odometer_km           49766 non-null int64\n",
      "registration_month    49766 non-null int64\n",
      "fueltype              45384 non-null object\n",
      "brand                 49766 non-null object\n",
      "unrepaired_damage     40061 non-null object\n",
      "ad_created            49766 non-null object\n",
      "nrofpictures          49766 non-null int64\n",
      "postalcode            49766 non-null int64\n",
      "lastseen              49766 non-null object\n",
      "dc_date               49766 non-null datetime64[ns]\n",
      "ad_date               49766 non-null datetime64[ns]\n",
      "seen_date             49766 non-null datetime64[ns]\n",
      "crawled               49766 non-null timedelta64[ns]\n",
      "dtypes: datetime64[ns](3), int64(7), object(13), timedelta64[ns](1)\n",
      "memory usage: 9.5+ MB\n"
     ]
    }
   ],
   "source": [
    "autos2.info()"
   ]
  },
  {
   "cell_type": "code",
   "execution_count": 39,
   "metadata": {},
   "outputs": [
    {
     "data": {
      "text/plain": [
       "0 days      48111\n",
       "1 days       1451\n",
       "2 days         60\n",
       "3 days         15\n",
       "4 days          8\n",
       "5 days         12\n",
       "6 days         14\n",
       "7 days         13\n",
       "8 days          3\n",
       "9 days          2\n",
       "10 days         4\n",
       "11 days         5\n",
       "12 days         4\n",
       "13 days         3\n",
       "14 days         1\n",
       "15 days         6\n",
       "16 days         2\n",
       "18 days         1\n",
       "19 days         1\n",
       "20 days         3\n",
       "21 days         3\n",
       "22 days         1\n",
       "23 days         1\n",
       "24 days         1\n",
       "26 days         3\n",
       "27 days         2\n",
       "28 days         2\n",
       "30 days         4\n",
       "31 days         2\n",
       "32 days         3\n",
       "33 days         2\n",
       "36 days         1\n",
       "38 days         3\n",
       "40 days         1\n",
       "43 days         1\n",
       "49 days         1\n",
       "51 days         2\n",
       "52 days         1\n",
       "53 days         1\n",
       "54 days         1\n",
       "57 days         1\n",
       "58 days         1\n",
       "61 days         1\n",
       "62 days         1\n",
       "67 days         1\n",
       "76 days         1\n",
       "104 days        1\n",
       "134 days        1\n",
       "178 days        1\n",
       "211 days        1\n",
       "286 days        1\n",
       "Name: crawled, dtype: int64"
      ]
     },
     "execution_count": 39,
     "metadata": {},
     "output_type": "execute_result"
    }
   ],
   "source": [
    "autos2[\"crawled\"].value_counts().sort_index()"
   ]
  },
  {
   "cell_type": "code",
   "execution_count": 40,
   "metadata": {},
   "outputs": [],
   "source": [
    "old_crawls = autos2.loc[autos2[\"crawled\"] > '7 Days']"
   ]
  },
  {
   "cell_type": "code",
   "execution_count": 41,
   "metadata": {},
   "outputs": [],
   "source": [
    "autos2 = autos2.drop(old_crawls.index, axis = 0)"
   ]
  },
  {
   "cell_type": "markdown",
   "metadata": {},
   "source": [
    "## Calculating the existing days for remaining used car listings"
   ]
  },
  {
   "cell_type": "code",
   "execution_count": 42,
   "metadata": {},
   "outputs": [],
   "source": [
    "autos2[\"existing\"] = autos2[\"seen_date\"] - autos2[\"ad_date\"]"
   ]
  },
  {
   "cell_type": "code",
   "execution_count": 43,
   "metadata": {},
   "outputs": [
    {
     "data": {
      "text/plain": [
       "0 days     6983\n",
       "1 days     2901\n",
       "2 days     5203\n",
       "3 days     2527\n",
       "4 days     3696\n",
       "5 days     1684\n",
       "6 days     2763\n",
       "7 days     1707\n",
       "8 days     2350\n",
       "9 days     1830\n",
       "10 days    1319\n",
       "11 days    1678\n",
       "12 days    1224\n",
       "13 days    1265\n",
       "14 days    1146\n",
       "15 days    1050\n",
       "16 days     978\n",
       "17 days     887\n",
       "18 days    1045\n",
       "19 days     612\n",
       "20 days     504\n",
       "21 days     770\n",
       "22 days     839\n",
       "23 days     575\n",
       "24 days     566\n",
       "25 days     528\n",
       "26 days     498\n",
       "27 days     548\n",
       "28 days     430\n",
       "29 days     549\n",
       "30 days     337\n",
       "31 days     420\n",
       "32 days     107\n",
       "33 days     149\n",
       "34 days       2\n",
       "35 days       8\n",
       "36 days       1\n",
       "37 days       3\n",
       "38 days       2\n",
       "Name: existing, dtype: int64"
      ]
     },
     "execution_count": 43,
     "metadata": {},
     "output_type": "execute_result"
    }
   ],
   "source": [
    "autos2[\"existing\"].value_counts().sort_index()"
   ]
  },
  {
   "cell_type": "markdown",
   "metadata": {},
   "source": [
    "## Cleaning for remaining odd original registration years"
   ]
  },
  {
   "cell_type": "code",
   "execution_count": 44,
   "metadata": {},
   "outputs": [
    {
     "data": {
      "text/plain": [
       "1000     1\n",
       "1001     1\n",
       "1111     1\n",
       "1800     2\n",
       "1910     4\n",
       "1927     1\n",
       "1929     1\n",
       "1931     1\n",
       "1934     2\n",
       "1937     4\n",
       "1938     1\n",
       "1939     1\n",
       "1941     2\n",
       "1943     1\n",
       "1948     1\n",
       "1950     3\n",
       "1951     2\n",
       "1952     1\n",
       "1953     1\n",
       "1954     2\n",
       "1955     2\n",
       "1956     5\n",
       "1957     2\n",
       "1958     4\n",
       "1959     7\n",
       "1960    33\n",
       "1961     6\n",
       "1962     4\n",
       "1963     9\n",
       "1964    12\n",
       "1965    17\n",
       "1966    22\n",
       "1967    27\n",
       "1968    26\n",
       "1969    19\n",
       "1970    45\n",
       "1971    27\n",
       "1972    35\n",
       "1973    25\n",
       "1974    24\n",
       "1975    19\n",
       "1976    27\n",
       "1977    21\n",
       "1978    47\n",
       "1979    35\n",
       "1980    97\n",
       "1981    30\n",
       "1982    43\n",
       "1983    52\n",
       "1984    53\n",
       "Name: registration_year, dtype: int64"
      ]
     },
     "execution_count": 44,
     "metadata": {},
     "output_type": "execute_result"
    }
   ],
   "source": [
    "autos2[\"registration_year\"].value_counts().sort_index().head(50)"
   ]
  },
  {
   "cell_type": "code",
   "execution_count": 45,
   "metadata": {},
   "outputs": [],
   "source": [
    "pre_1960 = autos2.loc[autos2[\"registration_year\"] < 1960]"
   ]
  },
  {
   "cell_type": "code",
   "execution_count": 46,
   "metadata": {},
   "outputs": [
    {
     "data": {
      "text/plain": [
       "53"
      ]
     },
     "execution_count": 46,
     "metadata": {},
     "output_type": "execute_result"
    }
   ],
   "source": [
    "len(pre_1960)"
   ]
  },
  {
   "cell_type": "code",
   "execution_count": 47,
   "metadata": {},
   "outputs": [
    {
     "data": {
      "text/plain": [
       "1980      97\n",
       "1981      30\n",
       "1982      43\n",
       "1983      52\n",
       "1984      53\n",
       "1985     103\n",
       "1986      75\n",
       "1987      75\n",
       "1988     142\n",
       "1989     181\n",
       "1990     395\n",
       "1991     356\n",
       "1992     389\n",
       "1993     444\n",
       "1994     660\n",
       "1995    1312\n",
       "1996    1443\n",
       "1997    2025\n",
       "1998    2450\n",
       "1999    2997\n",
       "2000    3347\n",
       "2001    2700\n",
       "2002    2531\n",
       "2003    2725\n",
       "2004    2733\n",
       "2005    3009\n",
       "2006    2699\n",
       "2007    2298\n",
       "2008    2227\n",
       "2009    2092\n",
       "2010    1588\n",
       "2011    1630\n",
       "2012    1321\n",
       "2013     803\n",
       "2014     662\n",
       "2015     389\n",
       "2016    1206\n",
       "2017    1382\n",
       "2018     470\n",
       "2019       2\n",
       "2800       1\n",
       "4100       1\n",
       "4500       1\n",
       "4800       1\n",
       "5000       4\n",
       "5911       1\n",
       "6200       1\n",
       "8888       1\n",
       "9000       1\n",
       "9999       3\n",
       "Name: registration_year, dtype: int64"
      ]
     },
     "execution_count": 47,
     "metadata": {},
     "output_type": "execute_result"
    }
   ],
   "source": [
    "autos2[\"registration_year\"].value_counts().sort_index().tail(50)"
   ]
  },
  {
   "cell_type": "code",
   "execution_count": 48,
   "metadata": {},
   "outputs": [],
   "source": [
    "post_2018 = autos2.loc[autos2[\"registration_year\"] > 2018]"
   ]
  },
  {
   "cell_type": "code",
   "execution_count": 49,
   "metadata": {},
   "outputs": [
    {
     "data": {
      "text/plain": [
       "17"
      ]
     },
     "execution_count": 49,
     "metadata": {},
     "output_type": "execute_result"
    }
   ],
   "source": [
    "len(post_2018)"
   ]
  },
  {
   "cell_type": "code",
   "execution_count": 50,
   "metadata": {},
   "outputs": [],
   "source": [
    "autos2 = autos2.drop(pre_1960.index, axis = 0)\n",
    "autos2 = autos2.drop(post_2018.index, axis = 0)"
   ]
  },
  {
   "cell_type": "markdown",
   "metadata": {},
   "source": [
    "I removed 53 used car listings with an original registration year prior to 1960.\n",
    "\n",
    "I removed 17 used car listings with an original registration year after 2018."
   ]
  },
  {
   "cell_type": "code",
   "execution_count": 51,
   "metadata": {},
   "outputs": [
    {
     "name": "stdout",
     "output_type": "stream",
     "text": [
      "<class 'pandas.core.frame.DataFrame'>\n",
      "Int64Index: 49614 entries, 0 to 49999\n",
      "Data columns (total 25 columns):\n",
      "datecrawled           49614 non-null object\n",
      "name                  49614 non-null object\n",
      "seller                49614 non-null object\n",
      "offertype             49614 non-null object\n",
      "price_usd             49614 non-null int64\n",
      "abtest                49614 non-null object\n",
      "vehicletype           44767 non-null object\n",
      "registration_year     49614 non-null int64\n",
      "gearbox               47016 non-null object\n",
      "powerps               49614 non-null int64\n",
      "model                 46945 non-null object\n",
      "odometer_km           49614 non-null int64\n",
      "registration_month    49614 non-null int64\n",
      "fueltype              45264 non-null object\n",
      "brand                 49614 non-null object\n",
      "unrepaired_damage     39961 non-null object\n",
      "ad_created            49614 non-null object\n",
      "nrofpictures          49614 non-null int64\n",
      "postalcode            49614 non-null int64\n",
      "lastseen              49614 non-null object\n",
      "dc_date               49614 non-null datetime64[ns]\n",
      "ad_date               49614 non-null datetime64[ns]\n",
      "seen_date             49614 non-null datetime64[ns]\n",
      "crawled               49614 non-null timedelta64[ns]\n",
      "existing              49614 non-null timedelta64[ns]\n",
      "dtypes: datetime64[ns](3), int64(7), object(13), timedelta64[ns](2)\n",
      "memory usage: 9.8+ MB\n"
     ]
    }
   ],
   "source": [
    "autos2.info()"
   ]
  },
  {
   "cell_type": "markdown",
   "metadata": {},
   "source": [
    "## Exploring the used car prices by brand"
   ]
  },
  {
   "cell_type": "code",
   "execution_count": 61,
   "metadata": {},
   "outputs": [
    {
     "data": {
      "text/plain": [
       "Index(['volkswagen', 'opel', 'bmw', 'mercedes_benz', 'audi', 'ford', 'renault',\n",
       "       'peugeot', 'fiat', 'seat'],\n",
       "      dtype='object')"
      ]
     },
     "execution_count": 61,
     "metadata": {},
     "output_type": "execute_result"
    }
   ],
   "source": [
    "autos2[\"brand\"].value_counts(normalize = True).head(10).index"
   ]
  },
  {
   "cell_type": "code",
   "execution_count": 72,
   "metadata": {},
   "outputs": [],
   "source": [
    "brand_mean_prices = {}\n",
    "brands = autos2[\"brand\"].value_counts(normalize = True).head(10).index\n",
    "\n",
    "for brand in brands:\n",
    "    price = autos2.loc[autos2[\"brand\"] == brand][\"price_usd\"].mean()\n",
    "    brand_mean_prices[brand] = round(price, 2)"
   ]
  },
  {
   "cell_type": "code",
   "execution_count": 74,
   "metadata": {},
   "outputs": [
    {
     "data": {
      "text/plain": [
       "{'volkswagen': 5181.44,\n",
       " 'opel': 2851.65,\n",
       " 'bmw': 7961.03,\n",
       " 'mercedes_benz': 8323.08,\n",
       " 'audi': 9019.26,\n",
       " 'ford': 3607.07,\n",
       " 'renault': 2363.3,\n",
       " 'peugeot': 3010.87,\n",
       " 'fiat': 2701.81,\n",
       " 'seat': 4241.7}"
      ]
     },
     "execution_count": 74,
     "metadata": {},
     "output_type": "execute_result"
    }
   ],
   "source": [
    "brand_mean_prices"
   ]
  },
  {
   "cell_type": "code",
   "execution_count": 75,
   "metadata": {},
   "outputs": [],
   "source": [
    "bmp_series = pd.Series(brand_mean_prices)"
   ]
  },
  {
   "cell_type": "code",
   "execution_count": 84,
   "metadata": {},
   "outputs": [],
   "source": [
    "new_autos_data = pd.DataFrame(bmp_series, columns = [\"mean_price\"])"
   ]
  },
  {
   "cell_type": "code",
   "execution_count": 85,
   "metadata": {},
   "outputs": [
    {
     "data": {
      "text/html": [
       "<div>\n",
       "<style scoped>\n",
       "    .dataframe tbody tr th:only-of-type {\n",
       "        vertical-align: middle;\n",
       "    }\n",
       "\n",
       "    .dataframe tbody tr th {\n",
       "        vertical-align: top;\n",
       "    }\n",
       "\n",
       "    .dataframe thead th {\n",
       "        text-align: right;\n",
       "    }\n",
       "</style>\n",
       "<table border=\"1\" class=\"dataframe\">\n",
       "  <thead>\n",
       "    <tr style=\"text-align: right;\">\n",
       "      <th></th>\n",
       "      <th>mean_price</th>\n",
       "    </tr>\n",
       "  </thead>\n",
       "  <tbody>\n",
       "    <tr>\n",
       "      <td>volkswagen</td>\n",
       "      <td>5181.44</td>\n",
       "    </tr>\n",
       "    <tr>\n",
       "      <td>opel</td>\n",
       "      <td>2851.65</td>\n",
       "    </tr>\n",
       "    <tr>\n",
       "      <td>bmw</td>\n",
       "      <td>7961.03</td>\n",
       "    </tr>\n",
       "    <tr>\n",
       "      <td>mercedes_benz</td>\n",
       "      <td>8323.08</td>\n",
       "    </tr>\n",
       "    <tr>\n",
       "      <td>audi</td>\n",
       "      <td>9019.26</td>\n",
       "    </tr>\n",
       "    <tr>\n",
       "      <td>ford</td>\n",
       "      <td>3607.07</td>\n",
       "    </tr>\n",
       "    <tr>\n",
       "      <td>renault</td>\n",
       "      <td>2363.30</td>\n",
       "    </tr>\n",
       "    <tr>\n",
       "      <td>peugeot</td>\n",
       "      <td>3010.87</td>\n",
       "    </tr>\n",
       "    <tr>\n",
       "      <td>fiat</td>\n",
       "      <td>2701.81</td>\n",
       "    </tr>\n",
       "    <tr>\n",
       "      <td>seat</td>\n",
       "      <td>4241.70</td>\n",
       "    </tr>\n",
       "  </tbody>\n",
       "</table>\n",
       "</div>"
      ],
      "text/plain": [
       "               mean_price\n",
       "volkswagen        5181.44\n",
       "opel              2851.65\n",
       "bmw               7961.03\n",
       "mercedes_benz     8323.08\n",
       "audi              9019.26\n",
       "ford              3607.07\n",
       "renault           2363.30\n",
       "peugeot           3010.87\n",
       "fiat              2701.81\n",
       "seat              4241.70"
      ]
     },
     "execution_count": 85,
     "metadata": {},
     "output_type": "execute_result"
    }
   ],
   "source": [
    "new_autos_data"
   ]
  },
  {
   "cell_type": "code",
   "execution_count": 78,
   "metadata": {},
   "outputs": [],
   "source": [
    "brand_mean_mileage = {}\n",
    "brands = autos2[\"brand\"].value_counts(normalize = True).head(10).index\n",
    "\n",
    "for brand in brands:\n",
    "    mileage = autos2.loc[autos2[\"brand\"] == brand][\"odometer_km\"].mean()\n",
    "    brand_mean_mileage[brand] = round(mileage, 1)"
   ]
  },
  {
   "cell_type": "code",
   "execution_count": 79,
   "metadata": {},
   "outputs": [
    {
     "data": {
      "text/plain": [
       "{'volkswagen': 128979.2,\n",
       " 'opel': 129454.8,\n",
       " 'bmw': 132627.7,\n",
       " 'mercedes_benz': 131063.3,\n",
       " 'audi': 129582.5,\n",
       " 'ford': 124337.7,\n",
       " 'renault': 128260.7,\n",
       " 'peugeot': 127432.8,\n",
       " 'fiat': 116980.8,\n",
       " 'seat': 122371.8}"
      ]
     },
     "execution_count": 79,
     "metadata": {},
     "output_type": "execute_result"
    }
   ],
   "source": [
    "brand_mean_mileage"
   ]
  },
  {
   "cell_type": "code",
   "execution_count": 80,
   "metadata": {},
   "outputs": [],
   "source": [
    "bmm_series = pd.Series(brand_mean_mileage)"
   ]
  },
  {
   "cell_type": "code",
   "execution_count": 86,
   "metadata": {},
   "outputs": [],
   "source": [
    "new_autos_data[\"mean_mileage\"] = bmm_series"
   ]
  },
  {
   "cell_type": "code",
   "execution_count": 87,
   "metadata": {},
   "outputs": [
    {
     "data": {
      "text/html": [
       "<div>\n",
       "<style scoped>\n",
       "    .dataframe tbody tr th:only-of-type {\n",
       "        vertical-align: middle;\n",
       "    }\n",
       "\n",
       "    .dataframe tbody tr th {\n",
       "        vertical-align: top;\n",
       "    }\n",
       "\n",
       "    .dataframe thead th {\n",
       "        text-align: right;\n",
       "    }\n",
       "</style>\n",
       "<table border=\"1\" class=\"dataframe\">\n",
       "  <thead>\n",
       "    <tr style=\"text-align: right;\">\n",
       "      <th></th>\n",
       "      <th>mean_price</th>\n",
       "      <th>mean_mileage</th>\n",
       "    </tr>\n",
       "  </thead>\n",
       "  <tbody>\n",
       "    <tr>\n",
       "      <td>volkswagen</td>\n",
       "      <td>5181.44</td>\n",
       "      <td>128979.2</td>\n",
       "    </tr>\n",
       "    <tr>\n",
       "      <td>opel</td>\n",
       "      <td>2851.65</td>\n",
       "      <td>129454.8</td>\n",
       "    </tr>\n",
       "    <tr>\n",
       "      <td>bmw</td>\n",
       "      <td>7961.03</td>\n",
       "      <td>132627.7</td>\n",
       "    </tr>\n",
       "    <tr>\n",
       "      <td>mercedes_benz</td>\n",
       "      <td>8323.08</td>\n",
       "      <td>131063.3</td>\n",
       "    </tr>\n",
       "    <tr>\n",
       "      <td>audi</td>\n",
       "      <td>9019.26</td>\n",
       "      <td>129582.5</td>\n",
       "    </tr>\n",
       "    <tr>\n",
       "      <td>ford</td>\n",
       "      <td>3607.07</td>\n",
       "      <td>124337.7</td>\n",
       "    </tr>\n",
       "    <tr>\n",
       "      <td>renault</td>\n",
       "      <td>2363.30</td>\n",
       "      <td>128260.7</td>\n",
       "    </tr>\n",
       "    <tr>\n",
       "      <td>peugeot</td>\n",
       "      <td>3010.87</td>\n",
       "      <td>127432.8</td>\n",
       "    </tr>\n",
       "    <tr>\n",
       "      <td>fiat</td>\n",
       "      <td>2701.81</td>\n",
       "      <td>116980.8</td>\n",
       "    </tr>\n",
       "    <tr>\n",
       "      <td>seat</td>\n",
       "      <td>4241.70</td>\n",
       "      <td>122371.8</td>\n",
       "    </tr>\n",
       "  </tbody>\n",
       "</table>\n",
       "</div>"
      ],
      "text/plain": [
       "               mean_price  mean_mileage\n",
       "volkswagen        5181.44      128979.2\n",
       "opel              2851.65      129454.8\n",
       "bmw               7961.03      132627.7\n",
       "mercedes_benz     8323.08      131063.3\n",
       "audi              9019.26      129582.5\n",
       "ford              3607.07      124337.7\n",
       "renault           2363.30      128260.7\n",
       "peugeot           3010.87      127432.8\n",
       "fiat              2701.81      116980.8\n",
       "seat              4241.70      122371.8"
      ]
     },
     "execution_count": 87,
     "metadata": {},
     "output_type": "execute_result"
    }
   ],
   "source": [
    "new_autos_data"
   ]
  }
 ],
 "metadata": {
  "kernelspec": {
   "display_name": "Python 3",
   "language": "python",
   "name": "python3"
  },
  "language_info": {
   "codemirror_mode": {
    "name": "ipython",
    "version": 3
   },
   "file_extension": ".py",
   "mimetype": "text/x-python",
   "name": "python",
   "nbconvert_exporter": "python",
   "pygments_lexer": "ipython3",
   "version": "3.7.4"
  }
 },
 "nbformat": 4,
 "nbformat_minor": 2
}
